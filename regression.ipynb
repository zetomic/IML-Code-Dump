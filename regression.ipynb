{
 "cells": [
  {
   "cell_type": "code",
   "execution_count": 1,
   "metadata": {},
   "outputs": [],
   "source": [
    "import pandas as pd\n",
    "import numpy as np\n",
    "from sklearn.model_selection import train_test_split\n",
    "from sklearn.preprocessing import StandardScaler, OneHotEncoder\n",
    "from sklearn.impute import SimpleImputer\n",
    "from sklearn.compose import ColumnTransformer\n",
    "from sklearn.pipeline import Pipeline\n",
    "from sklearn.linear_model import LinearRegression\n",
    "from sklearn.metrics import mean_squared_error\n",
    "from math import sqrt"
   ]
  },
  {
   "cell_type": "code",
   "execution_count": 2,
   "metadata": {},
   "outputs": [],
   "source": [
    "# Load the data\n",
    "train_data = pd.read_csv('train.csv')"
   ]
  },
  {
   "cell_type": "code",
   "execution_count": 3,
   "metadata": {},
   "outputs": [],
   "source": [
    "# Feature Engineering\n",
    "train_data['living_to_total_area_ratio'] = train_data['life_sq'] / train_data['full_sq']\n",
    "train_data['population_density'] = train_data['raion_popul'] / train_data['area_m']\n",
    "train_data['green_to_industrial_ratio'] = train_data['green_zone_part'] / (train_data['indust_part'] + 0.0001)"
   ]
  },
  {
   "cell_type": "code",
   "execution_count": 4,
   "metadata": {},
   "outputs": [],
   "source": [
    "# Replace infinite values with NaN\n",
    "train_data.replace([np.inf, -np.inf], np.nan, inplace=True)"
   ]
  },
  {
   "cell_type": "code",
   "execution_count": 5,
   "metadata": {},
   "outputs": [],
   "source": [
    "# Prepare the data\n",
    "X = train_data.drop('price_doc', axis=1)\n",
    "y = train_data['price_doc']"
   ]
  },
  {
   "cell_type": "code",
   "execution_count": 6,
   "metadata": {},
   "outputs": [],
   "source": [
    "# Identifying categorical and numerical columns\n",
    "categorical_cols = [col for col in X.columns if X[col].dtype == \"object\"]\n",
    "numerical_cols = [col for col in X.columns if X[col].dtype in ['int64', 'float64']]"
   ]
  },
  {
   "cell_type": "code",
   "execution_count": 7,
   "metadata": {},
   "outputs": [],
   "source": [
    "# Preprocessing for numerical data\n",
    "numerical_transformer = Pipeline(steps=[\n",
    "    ('imputer', SimpleImputer(strategy='median')),\n",
    "    ('scaler', StandardScaler())])\n",
    "\n",
    "# Preprocessing for categorical data\n",
    "categorical_transformer = Pipeline(steps=[\n",
    "    ('imputer', SimpleImputer(strategy='most_frequent')),\n",
    "    ('onehot', OneHotEncoder(handle_unknown='ignore'))])\n",
    "\n",
    "# Bundle preprocessing for numerical and categorical data\n",
    "preprocessor = ColumnTransformer(\n",
    "    transformers=[\n",
    "        ('num', numerical_transformer, numerical_cols),\n",
    "        ('cat', categorical_transformer, categorical_cols)])"
   ]
  },
  {
   "cell_type": "code",
   "execution_count": 8,
   "metadata": {},
   "outputs": [
    {
     "data": {
      "text/html": [
       "<style>#sk-container-id-1 {color: black;background-color: white;}#sk-container-id-1 pre{padding: 0;}#sk-container-id-1 div.sk-toggleable {background-color: white;}#sk-container-id-1 label.sk-toggleable__label {cursor: pointer;display: block;width: 100%;margin-bottom: 0;padding: 0.3em;box-sizing: border-box;text-align: center;}#sk-container-id-1 label.sk-toggleable__label-arrow:before {content: \"▸\";float: left;margin-right: 0.25em;color: #696969;}#sk-container-id-1 label.sk-toggleable__label-arrow:hover:before {color: black;}#sk-container-id-1 div.sk-estimator:hover label.sk-toggleable__label-arrow:before {color: black;}#sk-container-id-1 div.sk-toggleable__content {max-height: 0;max-width: 0;overflow: hidden;text-align: left;background-color: #f0f8ff;}#sk-container-id-1 div.sk-toggleable__content pre {margin: 0.2em;color: black;border-radius: 0.25em;background-color: #f0f8ff;}#sk-container-id-1 input.sk-toggleable__control:checked~div.sk-toggleable__content {max-height: 200px;max-width: 100%;overflow: auto;}#sk-container-id-1 input.sk-toggleable__control:checked~label.sk-toggleable__label-arrow:before {content: \"▾\";}#sk-container-id-1 div.sk-estimator input.sk-toggleable__control:checked~label.sk-toggleable__label {background-color: #d4ebff;}#sk-container-id-1 div.sk-label input.sk-toggleable__control:checked~label.sk-toggleable__label {background-color: #d4ebff;}#sk-container-id-1 input.sk-hidden--visually {border: 0;clip: rect(1px 1px 1px 1px);clip: rect(1px, 1px, 1px, 1px);height: 1px;margin: -1px;overflow: hidden;padding: 0;position: absolute;width: 1px;}#sk-container-id-1 div.sk-estimator {font-family: monospace;background-color: #f0f8ff;border: 1px dotted black;border-radius: 0.25em;box-sizing: border-box;margin-bottom: 0.5em;}#sk-container-id-1 div.sk-estimator:hover {background-color: #d4ebff;}#sk-container-id-1 div.sk-parallel-item::after {content: \"\";width: 100%;border-bottom: 1px solid gray;flex-grow: 1;}#sk-container-id-1 div.sk-label:hover label.sk-toggleable__label {background-color: #d4ebff;}#sk-container-id-1 div.sk-serial::before {content: \"\";position: absolute;border-left: 1px solid gray;box-sizing: border-box;top: 0;bottom: 0;left: 50%;z-index: 0;}#sk-container-id-1 div.sk-serial {display: flex;flex-direction: column;align-items: center;background-color: white;padding-right: 0.2em;padding-left: 0.2em;position: relative;}#sk-container-id-1 div.sk-item {position: relative;z-index: 1;}#sk-container-id-1 div.sk-parallel {display: flex;align-items: stretch;justify-content: center;background-color: white;position: relative;}#sk-container-id-1 div.sk-item::before, #sk-container-id-1 div.sk-parallel-item::before {content: \"\";position: absolute;border-left: 1px solid gray;box-sizing: border-box;top: 0;bottom: 0;left: 50%;z-index: -1;}#sk-container-id-1 div.sk-parallel-item {display: flex;flex-direction: column;z-index: 1;position: relative;background-color: white;}#sk-container-id-1 div.sk-parallel-item:first-child::after {align-self: flex-end;width: 50%;}#sk-container-id-1 div.sk-parallel-item:last-child::after {align-self: flex-start;width: 50%;}#sk-container-id-1 div.sk-parallel-item:only-child::after {width: 0;}#sk-container-id-1 div.sk-dashed-wrapped {border: 1px dashed gray;margin: 0 0.4em 0.5em 0.4em;box-sizing: border-box;padding-bottom: 0.4em;background-color: white;}#sk-container-id-1 div.sk-label label {font-family: monospace;font-weight: bold;display: inline-block;line-height: 1.2em;}#sk-container-id-1 div.sk-label-container {text-align: center;}#sk-container-id-1 div.sk-container {/* jupyter's `normalize.less` sets `[hidden] { display: none; }` but bootstrap.min.css set `[hidden] { display: none !important; }` so we also need the `!important` here to be able to override the default hidden behavior on the sphinx rendered scikit-learn.org. See: https://github.com/scikit-learn/scikit-learn/issues/21755 */display: inline-block !important;position: relative;}#sk-container-id-1 div.sk-text-repr-fallback {display: none;}</style><div id=\"sk-container-id-1\" class=\"sk-top-container\"><div class=\"sk-text-repr-fallback\"><pre>Pipeline(steps=[(&#x27;preprocessor&#x27;,\n",
       "                 ColumnTransformer(transformers=[(&#x27;num&#x27;,\n",
       "                                                  Pipeline(steps=[(&#x27;imputer&#x27;,\n",
       "                                                                   SimpleImputer(strategy=&#x27;median&#x27;)),\n",
       "                                                                  (&#x27;scaler&#x27;,\n",
       "                                                                   StandardScaler())]),\n",
       "                                                  [&#x27;full_sq&#x27;, &#x27;life_sq&#x27;,\n",
       "                                                   &#x27;floor&#x27;, &#x27;area_m&#x27;,\n",
       "                                                   &#x27;raion_popul&#x27;,\n",
       "                                                   &#x27;green_zone_part&#x27;,\n",
       "                                                   &#x27;indust_part&#x27;,\n",
       "                                                   &#x27;children_preschool&#x27;,\n",
       "                                                   &#x27;preschool_education_centers_raion&#x27;,\n",
       "                                                   &#x27;children_school&#x27;,\n",
       "                                                   &#x27;school_education_centers_rai...\n",
       "                                                                   OneHotEncoder(handle_unknown=&#x27;ignore&#x27;))]),\n",
       "                                                  [&#x27;product_type&#x27;, &#x27;sub_area&#x27;,\n",
       "                                                   &#x27;culture_objects_top_25&#x27;,\n",
       "                                                   &#x27;thermal_power_plant_raion&#x27;,\n",
       "                                                   &#x27;incineration_raion&#x27;,\n",
       "                                                   &#x27;oil_chemistry_raion&#x27;,\n",
       "                                                   &#x27;radiation_raion&#x27;,\n",
       "                                                   &#x27;railroad_terminal_raion&#x27;,\n",
       "                                                   &#x27;big_market_raion&#x27;,\n",
       "                                                   &#x27;nuclear_reactor_raion&#x27;,\n",
       "                                                   &#x27;detention_facility_raion&#x27;,\n",
       "                                                   &#x27;water_1line&#x27;,\n",
       "                                                   &#x27;big_road1_1line&#x27;,\n",
       "                                                   &#x27;railroad_1line&#x27;,\n",
       "                                                   &#x27;ecology&#x27;])])),\n",
       "                (&#x27;regressor&#x27;, LinearRegression())])</pre><b>In a Jupyter environment, please rerun this cell to show the HTML representation or trust the notebook. <br />On GitHub, the HTML representation is unable to render, please try loading this page with nbviewer.org.</b></div><div class=\"sk-container\" hidden><div class=\"sk-item sk-dashed-wrapped\"><div class=\"sk-label-container\"><div class=\"sk-label sk-toggleable\"><input class=\"sk-toggleable__control sk-hidden--visually\" id=\"sk-estimator-id-1\" type=\"checkbox\" ><label for=\"sk-estimator-id-1\" class=\"sk-toggleable__label sk-toggleable__label-arrow\">Pipeline</label><div class=\"sk-toggleable__content\"><pre>Pipeline(steps=[(&#x27;preprocessor&#x27;,\n",
       "                 ColumnTransformer(transformers=[(&#x27;num&#x27;,\n",
       "                                                  Pipeline(steps=[(&#x27;imputer&#x27;,\n",
       "                                                                   SimpleImputer(strategy=&#x27;median&#x27;)),\n",
       "                                                                  (&#x27;scaler&#x27;,\n",
       "                                                                   StandardScaler())]),\n",
       "                                                  [&#x27;full_sq&#x27;, &#x27;life_sq&#x27;,\n",
       "                                                   &#x27;floor&#x27;, &#x27;area_m&#x27;,\n",
       "                                                   &#x27;raion_popul&#x27;,\n",
       "                                                   &#x27;green_zone_part&#x27;,\n",
       "                                                   &#x27;indust_part&#x27;,\n",
       "                                                   &#x27;children_preschool&#x27;,\n",
       "                                                   &#x27;preschool_education_centers_raion&#x27;,\n",
       "                                                   &#x27;children_school&#x27;,\n",
       "                                                   &#x27;school_education_centers_rai...\n",
       "                                                                   OneHotEncoder(handle_unknown=&#x27;ignore&#x27;))]),\n",
       "                                                  [&#x27;product_type&#x27;, &#x27;sub_area&#x27;,\n",
       "                                                   &#x27;culture_objects_top_25&#x27;,\n",
       "                                                   &#x27;thermal_power_plant_raion&#x27;,\n",
       "                                                   &#x27;incineration_raion&#x27;,\n",
       "                                                   &#x27;oil_chemistry_raion&#x27;,\n",
       "                                                   &#x27;radiation_raion&#x27;,\n",
       "                                                   &#x27;railroad_terminal_raion&#x27;,\n",
       "                                                   &#x27;big_market_raion&#x27;,\n",
       "                                                   &#x27;nuclear_reactor_raion&#x27;,\n",
       "                                                   &#x27;detention_facility_raion&#x27;,\n",
       "                                                   &#x27;water_1line&#x27;,\n",
       "                                                   &#x27;big_road1_1line&#x27;,\n",
       "                                                   &#x27;railroad_1line&#x27;,\n",
       "                                                   &#x27;ecology&#x27;])])),\n",
       "                (&#x27;regressor&#x27;, LinearRegression())])</pre></div></div></div><div class=\"sk-serial\"><div class=\"sk-item sk-dashed-wrapped\"><div class=\"sk-label-container\"><div class=\"sk-label sk-toggleable\"><input class=\"sk-toggleable__control sk-hidden--visually\" id=\"sk-estimator-id-2\" type=\"checkbox\" ><label for=\"sk-estimator-id-2\" class=\"sk-toggleable__label sk-toggleable__label-arrow\">preprocessor: ColumnTransformer</label><div class=\"sk-toggleable__content\"><pre>ColumnTransformer(transformers=[(&#x27;num&#x27;,\n",
       "                                 Pipeline(steps=[(&#x27;imputer&#x27;,\n",
       "                                                  SimpleImputer(strategy=&#x27;median&#x27;)),\n",
       "                                                 (&#x27;scaler&#x27;, StandardScaler())]),\n",
       "                                 [&#x27;full_sq&#x27;, &#x27;life_sq&#x27;, &#x27;floor&#x27;, &#x27;area_m&#x27;,\n",
       "                                  &#x27;raion_popul&#x27;, &#x27;green_zone_part&#x27;,\n",
       "                                  &#x27;indust_part&#x27;, &#x27;children_preschool&#x27;,\n",
       "                                  &#x27;preschool_education_centers_raion&#x27;,\n",
       "                                  &#x27;children_school&#x27;,\n",
       "                                  &#x27;school_education_centers_raion&#x27;,\n",
       "                                  &#x27;school_education_centers_to...\n",
       "                                                 (&#x27;onehot&#x27;,\n",
       "                                                  OneHotEncoder(handle_unknown=&#x27;ignore&#x27;))]),\n",
       "                                 [&#x27;product_type&#x27;, &#x27;sub_area&#x27;,\n",
       "                                  &#x27;culture_objects_top_25&#x27;,\n",
       "                                  &#x27;thermal_power_plant_raion&#x27;,\n",
       "                                  &#x27;incineration_raion&#x27;, &#x27;oil_chemistry_raion&#x27;,\n",
       "                                  &#x27;radiation_raion&#x27;, &#x27;railroad_terminal_raion&#x27;,\n",
       "                                  &#x27;big_market_raion&#x27;, &#x27;nuclear_reactor_raion&#x27;,\n",
       "                                  &#x27;detention_facility_raion&#x27;, &#x27;water_1line&#x27;,\n",
       "                                  &#x27;big_road1_1line&#x27;, &#x27;railroad_1line&#x27;,\n",
       "                                  &#x27;ecology&#x27;])])</pre></div></div></div><div class=\"sk-parallel\"><div class=\"sk-parallel-item\"><div class=\"sk-item\"><div class=\"sk-label-container\"><div class=\"sk-label sk-toggleable\"><input class=\"sk-toggleable__control sk-hidden--visually\" id=\"sk-estimator-id-3\" type=\"checkbox\" ><label for=\"sk-estimator-id-3\" class=\"sk-toggleable__label sk-toggleable__label-arrow\">num</label><div class=\"sk-toggleable__content\"><pre>[&#x27;full_sq&#x27;, &#x27;life_sq&#x27;, &#x27;floor&#x27;, &#x27;area_m&#x27;, &#x27;raion_popul&#x27;, &#x27;green_zone_part&#x27;, &#x27;indust_part&#x27;, &#x27;children_preschool&#x27;, &#x27;preschool_education_centers_raion&#x27;, &#x27;children_school&#x27;, &#x27;school_education_centers_raion&#x27;, &#x27;school_education_centers_top_20_raion&#x27;, &#x27;healthcare_centers_raion&#x27;, &#x27;university_top_20_raion&#x27;, &#x27;sport_objects_raion&#x27;, &#x27;additional_education_raion&#x27;, &#x27;culture_objects_top_25_raion&#x27;, &#x27;shopping_centers_raion&#x27;, &#x27;office_raion&#x27;, &#x27;full_all&#x27;, &#x27;male_f&#x27;, &#x27;female_f&#x27;, &#x27;young_all&#x27;, &#x27;young_male&#x27;, &#x27;young_female&#x27;, &#x27;work_all&#x27;, &#x27;work_male&#x27;, &#x27;work_female&#x27;, &#x27;ekder_all&#x27;, &#x27;ekder_male&#x27;, &#x27;ekder_female&#x27;, &#x27;0_6_all&#x27;, &#x27;0_6_male&#x27;, &#x27;0_6_female&#x27;, &#x27;7_14_all&#x27;, &#x27;7_14_male&#x27;, &#x27;7_14_female&#x27;, &#x27;0_17_all&#x27;, &#x27;0_17_male&#x27;, &#x27;0_17_female&#x27;, &#x27;16_29_all&#x27;, &#x27;16_29_male&#x27;, &#x27;16_29_female&#x27;, &#x27;0_13_all&#x27;, &#x27;0_13_male&#x27;, &#x27;0_13_female&#x27;, &#x27;raion_build_count_with_material_info&#x27;, &#x27;build_count_block&#x27;, &#x27;build_count_wood&#x27;, &#x27;build_count_frame&#x27;, &#x27;build_count_brick&#x27;, &#x27;build_count_monolith&#x27;, &#x27;build_count_panel&#x27;, &#x27;build_count_foam&#x27;, &#x27;build_count_slag&#x27;, &#x27;build_count_mix&#x27;, &#x27;raion_build_count_with_builddate_info&#x27;, &#x27;build_count_before_1920&#x27;, &#x27;build_count_1921-1945&#x27;, &#x27;build_count_1946-1970&#x27;, &#x27;build_count_1971-1995&#x27;, &#x27;build_count_after_1995&#x27;, &#x27;ID_metro&#x27;, &#x27;metro_min_avto&#x27;, &#x27;metro_km_avto&#x27;, &#x27;metro_min_walk&#x27;, &#x27;metro_km_walk&#x27;, &#x27;kindergarten_km&#x27;, &#x27;school_km&#x27;, &#x27;park_km&#x27;, &#x27;green_zone_km&#x27;, &#x27;industrial_km&#x27;, &#x27;water_treatment_km&#x27;, &#x27;cemetery_km&#x27;, &#x27;incineration_km&#x27;, &#x27;railroad_station_walk_km&#x27;, &#x27;railroad_station_walk_min&#x27;, &#x27;ID_railroad_station_walk&#x27;, &#x27;railroad_station_avto_km&#x27;, &#x27;railroad_station_avto_min&#x27;, &#x27;ID_railroad_station_avto&#x27;, &#x27;public_transport_station_km&#x27;, &#x27;public_transport_station_min_walk&#x27;, &#x27;water_km&#x27;, &#x27;mkad_km&#x27;, &#x27;ttk_km&#x27;, &#x27;sadovoe_km&#x27;, &#x27;bulvar_ring_km&#x27;, &#x27;kremlin_km&#x27;, &#x27;big_road1_km&#x27;, &#x27;ID_big_road1&#x27;, &#x27;big_road2_km&#x27;, &#x27;ID_big_road2&#x27;, &#x27;railroad_km&#x27;, &#x27;zd_vokzaly_avto_km&#x27;, &#x27;ID_railroad_terminal&#x27;, &#x27;bus_terminal_avto_km&#x27;, &#x27;ID_bus_terminal&#x27;, &#x27;oil_chemistry_km&#x27;, &#x27;nuclear_reactor_km&#x27;, &#x27;radiation_km&#x27;, &#x27;power_transmission_line_km&#x27;, &#x27;thermal_power_plant_km&#x27;, &#x27;ts_km&#x27;, &#x27;big_market_km&#x27;, &#x27;market_shop_km&#x27;, &#x27;fitness_km&#x27;, &#x27;swim_pool_km&#x27;, &#x27;ice_rink_km&#x27;, &#x27;stadium_km&#x27;, &#x27;basketball_km&#x27;, &#x27;hospice_morgue_km&#x27;, &#x27;detention_facility_km&#x27;, &#x27;public_healthcare_km&#x27;, &#x27;university_km&#x27;, &#x27;workplaces_km&#x27;, &#x27;shopping_centers_km&#x27;, &#x27;office_km&#x27;, &#x27;additional_education_km&#x27;, &#x27;preschool_km&#x27;, &#x27;big_church_km&#x27;, &#x27;church_synagogue_km&#x27;, &#x27;mosque_km&#x27;, &#x27;theater_km&#x27;, &#x27;museum_km&#x27;, &#x27;exhibition_km&#x27;, &#x27;catering_km&#x27;, &#x27;green_part_500&#x27;, &#x27;prom_part_500&#x27;, &#x27;office_count_500&#x27;, &#x27;office_sqm_500&#x27;, &#x27;trc_count_500&#x27;, &#x27;trc_sqm_500&#x27;, &#x27;cafe_count_500&#x27;, &#x27;cafe_count_500_na_price&#x27;, &#x27;cafe_count_500_price_500&#x27;, &#x27;cafe_count_500_price_1000&#x27;, &#x27;cafe_count_500_price_1500&#x27;, &#x27;cafe_count_500_price_2500&#x27;, &#x27;cafe_count_500_price_4000&#x27;, &#x27;cafe_count_500_price_high&#x27;, &#x27;big_church_count_500&#x27;, &#x27;church_count_500&#x27;, &#x27;mosque_count_500&#x27;, &#x27;leisure_count_500&#x27;, &#x27;sport_count_500&#x27;, &#x27;market_count_500&#x27;, &#x27;green_part_1000&#x27;, &#x27;prom_part_1000&#x27;, &#x27;office_count_1000&#x27;, &#x27;office_sqm_1000&#x27;, &#x27;trc_count_1000&#x27;, &#x27;trc_sqm_1000&#x27;, &#x27;cafe_count_1000&#x27;, &#x27;cafe_count_1000_na_price&#x27;, &#x27;cafe_count_1000_price_500&#x27;, &#x27;cafe_count_1000_price_1000&#x27;, &#x27;cafe_count_1000_price_1500&#x27;, &#x27;cafe_count_1000_price_2500&#x27;, &#x27;cafe_count_1000_price_4000&#x27;, &#x27;cafe_count_1000_price_high&#x27;, &#x27;big_church_count_1000&#x27;, &#x27;church_count_1000&#x27;, &#x27;mosque_count_1000&#x27;, &#x27;leisure_count_1000&#x27;, &#x27;sport_count_1000&#x27;, &#x27;market_count_1000&#x27;, &#x27;green_part_1500&#x27;, &#x27;prom_part_1500&#x27;, &#x27;office_count_1500&#x27;, &#x27;office_sqm_1500&#x27;, &#x27;trc_count_1500&#x27;, &#x27;trc_sqm_1500&#x27;, &#x27;cafe_count_1500&#x27;, &#x27;cafe_count_1500_na_price&#x27;, &#x27;cafe_count_1500_price_500&#x27;, &#x27;cafe_count_1500_price_1000&#x27;, &#x27;cafe_count_1500_price_1500&#x27;, &#x27;cafe_count_1500_price_2500&#x27;, &#x27;cafe_count_1500_price_4000&#x27;, &#x27;cafe_count_1500_price_high&#x27;, &#x27;big_church_count_1500&#x27;, &#x27;church_count_1500&#x27;, &#x27;mosque_count_1500&#x27;, &#x27;leisure_count_1500&#x27;, &#x27;sport_count_1500&#x27;, &#x27;market_count_1500&#x27;, &#x27;green_part_2000&#x27;, &#x27;prom_part_2000&#x27;, &#x27;office_count_2000&#x27;, &#x27;office_sqm_2000&#x27;, &#x27;trc_count_2000&#x27;, &#x27;trc_sqm_2000&#x27;, &#x27;cafe_count_2000&#x27;, &#x27;cafe_sum_2000_min_price_avg&#x27;, &#x27;cafe_sum_2000_max_price_avg&#x27;, &#x27;cafe_avg_price_2000&#x27;, &#x27;cafe_count_2000_na_price&#x27;, &#x27;cafe_count_2000_price_500&#x27;, &#x27;cafe_count_2000_price_1000&#x27;, &#x27;cafe_count_2000_price_1500&#x27;, &#x27;cafe_count_2000_price_2500&#x27;, &#x27;cafe_count_2000_price_4000&#x27;, &#x27;cafe_count_2000_price_high&#x27;, &#x27;big_church_count_2000&#x27;, &#x27;church_count_2000&#x27;, &#x27;mosque_count_2000&#x27;, &#x27;leisure_count_2000&#x27;, &#x27;sport_count_2000&#x27;, &#x27;market_count_2000&#x27;, &#x27;green_part_3000&#x27;, &#x27;prom_part_3000&#x27;, &#x27;office_count_3000&#x27;, &#x27;office_sqm_3000&#x27;, &#x27;trc_count_3000&#x27;, &#x27;trc_sqm_3000&#x27;, &#x27;cafe_count_3000&#x27;, &#x27;cafe_sum_3000_min_price_avg&#x27;, &#x27;cafe_sum_3000_max_price_avg&#x27;, &#x27;cafe_avg_price_3000&#x27;, &#x27;cafe_count_3000_na_price&#x27;, &#x27;cafe_count_3000_price_500&#x27;, &#x27;cafe_count_3000_price_1000&#x27;, &#x27;cafe_count_3000_price_1500&#x27;, &#x27;cafe_count_3000_price_2500&#x27;, &#x27;cafe_count_3000_price_4000&#x27;, &#x27;cafe_count_3000_price_high&#x27;, &#x27;big_church_count_3000&#x27;, &#x27;church_count_3000&#x27;, &#x27;mosque_count_3000&#x27;, &#x27;leisure_count_3000&#x27;, &#x27;sport_count_3000&#x27;, &#x27;market_count_3000&#x27;, &#x27;green_part_5000&#x27;, &#x27;prom_part_5000&#x27;, &#x27;office_count_5000&#x27;, &#x27;office_sqm_5000&#x27;, &#x27;trc_count_5000&#x27;, &#x27;trc_sqm_5000&#x27;, &#x27;cafe_count_5000&#x27;, &#x27;cafe_sum_5000_min_price_avg&#x27;, &#x27;cafe_sum_5000_max_price_avg&#x27;, &#x27;cafe_avg_price_5000&#x27;, &#x27;cafe_count_5000_na_price&#x27;, &#x27;cafe_count_5000_price_500&#x27;, &#x27;cafe_count_5000_price_1000&#x27;, &#x27;cafe_count_5000_price_1500&#x27;, &#x27;cafe_count_5000_price_2500&#x27;, &#x27;cafe_count_5000_price_4000&#x27;, &#x27;cafe_count_5000_price_high&#x27;, &#x27;big_church_count_5000&#x27;, &#x27;church_count_5000&#x27;, &#x27;mosque_count_5000&#x27;, &#x27;leisure_count_5000&#x27;, &#x27;sport_count_5000&#x27;, &#x27;market_count_5000&#x27;, &#x27;living_to_total_area_ratio&#x27;, &#x27;population_density&#x27;, &#x27;green_to_industrial_ratio&#x27;]</pre></div></div></div><div class=\"sk-serial\"><div class=\"sk-item\"><div class=\"sk-serial\"><div class=\"sk-item\"><div class=\"sk-estimator sk-toggleable\"><input class=\"sk-toggleable__control sk-hidden--visually\" id=\"sk-estimator-id-4\" type=\"checkbox\" ><label for=\"sk-estimator-id-4\" class=\"sk-toggleable__label sk-toggleable__label-arrow\">SimpleImputer</label><div class=\"sk-toggleable__content\"><pre>SimpleImputer(strategy=&#x27;median&#x27;)</pre></div></div></div><div class=\"sk-item\"><div class=\"sk-estimator sk-toggleable\"><input class=\"sk-toggleable__control sk-hidden--visually\" id=\"sk-estimator-id-5\" type=\"checkbox\" ><label for=\"sk-estimator-id-5\" class=\"sk-toggleable__label sk-toggleable__label-arrow\">StandardScaler</label><div class=\"sk-toggleable__content\"><pre>StandardScaler()</pre></div></div></div></div></div></div></div></div><div class=\"sk-parallel-item\"><div class=\"sk-item\"><div class=\"sk-label-container\"><div class=\"sk-label sk-toggleable\"><input class=\"sk-toggleable__control sk-hidden--visually\" id=\"sk-estimator-id-6\" type=\"checkbox\" ><label for=\"sk-estimator-id-6\" class=\"sk-toggleable__label sk-toggleable__label-arrow\">cat</label><div class=\"sk-toggleable__content\"><pre>[&#x27;product_type&#x27;, &#x27;sub_area&#x27;, &#x27;culture_objects_top_25&#x27;, &#x27;thermal_power_plant_raion&#x27;, &#x27;incineration_raion&#x27;, &#x27;oil_chemistry_raion&#x27;, &#x27;radiation_raion&#x27;, &#x27;railroad_terminal_raion&#x27;, &#x27;big_market_raion&#x27;, &#x27;nuclear_reactor_raion&#x27;, &#x27;detention_facility_raion&#x27;, &#x27;water_1line&#x27;, &#x27;big_road1_1line&#x27;, &#x27;railroad_1line&#x27;, &#x27;ecology&#x27;]</pre></div></div></div><div class=\"sk-serial\"><div class=\"sk-item\"><div class=\"sk-serial\"><div class=\"sk-item\"><div class=\"sk-estimator sk-toggleable\"><input class=\"sk-toggleable__control sk-hidden--visually\" id=\"sk-estimator-id-7\" type=\"checkbox\" ><label for=\"sk-estimator-id-7\" class=\"sk-toggleable__label sk-toggleable__label-arrow\">SimpleImputer</label><div class=\"sk-toggleable__content\"><pre>SimpleImputer(strategy=&#x27;most_frequent&#x27;)</pre></div></div></div><div class=\"sk-item\"><div class=\"sk-estimator sk-toggleable\"><input class=\"sk-toggleable__control sk-hidden--visually\" id=\"sk-estimator-id-8\" type=\"checkbox\" ><label for=\"sk-estimator-id-8\" class=\"sk-toggleable__label sk-toggleable__label-arrow\">OneHotEncoder</label><div class=\"sk-toggleable__content\"><pre>OneHotEncoder(handle_unknown=&#x27;ignore&#x27;)</pre></div></div></div></div></div></div></div></div></div></div><div class=\"sk-item\"><div class=\"sk-estimator sk-toggleable\"><input class=\"sk-toggleable__control sk-hidden--visually\" id=\"sk-estimator-id-9\" type=\"checkbox\" ><label for=\"sk-estimator-id-9\" class=\"sk-toggleable__label sk-toggleable__label-arrow\">LinearRegression</label><div class=\"sk-toggleable__content\"><pre>LinearRegression()</pre></div></div></div></div></div></div></div>"
      ],
      "text/plain": [
       "Pipeline(steps=[('preprocessor',\n",
       "                 ColumnTransformer(transformers=[('num',\n",
       "                                                  Pipeline(steps=[('imputer',\n",
       "                                                                   SimpleImputer(strategy='median')),\n",
       "                                                                  ('scaler',\n",
       "                                                                   StandardScaler())]),\n",
       "                                                  ['full_sq', 'life_sq',\n",
       "                                                   'floor', 'area_m',\n",
       "                                                   'raion_popul',\n",
       "                                                   'green_zone_part',\n",
       "                                                   'indust_part',\n",
       "                                                   'children_preschool',\n",
       "                                                   'preschool_education_centers_raion',\n",
       "                                                   'children_school',\n",
       "                                                   'school_education_centers_rai...\n",
       "                                                                   OneHotEncoder(handle_unknown='ignore'))]),\n",
       "                                                  ['product_type', 'sub_area',\n",
       "                                                   'culture_objects_top_25',\n",
       "                                                   'thermal_power_plant_raion',\n",
       "                                                   'incineration_raion',\n",
       "                                                   'oil_chemistry_raion',\n",
       "                                                   'radiation_raion',\n",
       "                                                   'railroad_terminal_raion',\n",
       "                                                   'big_market_raion',\n",
       "                                                   'nuclear_reactor_raion',\n",
       "                                                   'detention_facility_raion',\n",
       "                                                   'water_1line',\n",
       "                                                   'big_road1_1line',\n",
       "                                                   'railroad_1line',\n",
       "                                                   'ecology'])])),\n",
       "                ('regressor', LinearRegression())])"
      ]
     },
     "execution_count": 8,
     "metadata": {},
     "output_type": "execute_result"
    }
   ],
   "source": [
    "# Create the regression model\n",
    "linear_model = Pipeline(steps=[('preprocessor', preprocessor),\n",
    "                               ('regressor', LinearRegression())])\n",
    "\n",
    "# Split the data\n",
    "X_train, X_val, y_train, y_val = train_test_split(X, y, test_size=0.2, random_state=0)\n",
    "\n",
    "# Fit the model\n",
    "linear_model.fit(X_train, y_train)"
   ]
  },
  {
   "cell_type": "code",
   "execution_count": 9,
   "metadata": {},
   "outputs": [
    {
     "name": "stdout",
     "output_type": "stream",
     "text": [
      "Validation RMSE: 13815689.346568506\n"
     ]
    }
   ],
   "source": [
    "# Evaluate the model\n",
    "predictions = linear_model.predict(X_val)\n",
    "rmse = sqrt(mean_squared_error(y_val, predictions))\n",
    "print(f'Validation RMSE: {rmse}')"
   ]
  },
  {
   "cell_type": "code",
   "execution_count": null,
   "metadata": {},
   "outputs": [],
   "source": [
    "test_data = pd.read_csv('test.csv')  \n",
    "\n",
    "test_data['living_to_total_area_ratio'] = test_data['life_sq'] / test_data['full_sq']\n",
    "test_data['population_density'] = test_data['raion_popul'] / test_data['area_m']\n",
    "test_data['green_to_industrial_ratio'] = test_data['green_zone_part'] / (test_data['indust_part'] + 0.0001)\n",
    "\n",
    "# Replace infinite values with NaN in the test dataset\n",
    "test_data.replace([np.inf, -np.inf], np.nan, inplace=True)\n",
    "\n",
    "# Predict using the trained model\n",
    "test_predictions = linear_model.predict(test_data)\n",
    "\n",
    "# Assuming 'Id' is the column in your test dataset that needs to be included in submission\n",
    "submission = pd.DataFrame({\n",
    "    'row ID': test_data['row ID'],\n",
    "    'price_doc': test_predictions\n",
    "})\n",
    "\n",
    "# Save the submission file\n",
    "submission.to_csv('multiple_linear_submission.csv', index=False)"
   ]
  }
 ],
 "metadata": {
  "kernelspec": {
   "display_name": "base",
   "language": "python",
   "name": "python3"
  },
  "language_info": {
   "codemirror_mode": {
    "name": "ipython",
    "version": 3
   },
   "file_extension": ".py",
   "mimetype": "text/x-python",
   "name": "python",
   "nbconvert_exporter": "python",
   "pygments_lexer": "ipython3",
   "version": "3.10.9"
  }
 },
 "nbformat": 4,
 "nbformat_minor": 2
}
