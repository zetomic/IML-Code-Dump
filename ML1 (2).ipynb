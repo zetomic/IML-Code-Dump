{
 "cells": [
  {
   "cell_type": "code",
   "execution_count": 1,
   "metadata": {},
   "outputs": [],
   "source": [
    "import pandas as pd\n",
    "import numpy as np\n",
    "from sklearn.model_selection import train_test_split\n",
    "from sklearn.preprocessing import MinMaxScaler, RobustScaler\n",
    "import tensorflow as tf\n",
    "from tensorflow.keras.models import Sequential\n",
    "from tensorflow.keras.layers import Dense, Dropout\n",
    "from tensorflow.keras.metrics import RootMeanSquaredError\n",
    "from tensorflow.keras.optimizers import Adam\n",
    "from tensorflow.keras.callbacks import EarlyStopping"
   ]
  },
  {
   "cell_type": "code",
   "execution_count": 2,
   "metadata": {},
   "outputs": [],
   "source": [
    "# Load the dataset\n",
    "file_path = 'train.csv'  # Replace with your CSV file path\n",
    "data = pd.read_csv(file_path)"
   ]
  },
  {
   "cell_type": "code",
   "execution_count": 3,
   "metadata": {},
   "outputs": [],
   "source": [
    "# Applying logarithmic transformations\n",
    "data['full_sq_log'] = np.log1p(data['full_sq'])\n",
    "data['leisure_count_500_log'] = np.log1p(data['leisure_count_500'])\n",
    "data['life_sq_log'] = np.log1p(data['life_sq'])\n",
    "data['cafe_count_500_price_high_log'] = np.log1p(data['cafe_count_500_price_high'])"
   ]
  },
  {
   "cell_type": "code",
   "execution_count": 4,
   "metadata": {},
   "outputs": [],
   "source": [
    "# Add log-transformed features to the list of key features\n",
    "key_features = ['full_sq', 'life_sq', 'floor', 'leisure_count_500', 'cafe_count_1000_price_high',\n",
    "                'mosque_count_500', 'mosque_count_1000', 'cafe_count_500_price_high',\n",
    "                'cafe_count_1000_price_high', 'cafe_count_500_price_4000', 'culture_objects_top_25_raion', \n",
    "                'leisure_count_1000', 'trc_sqm_500', 'church_count_500', 'cafe_count_1000_price_1500', \n",
    "                'mosque_count_1500', 'cafe_count_500', 'big_church_count_500',\n",
    "                'public_transport_station_min_walk', 'metro_min_walk', 'kindergarten_km', 'preschool_km',\n",
    "                'full_sq_log', 'life_sq_log', 'leisure_count_500_log', 'cafe_count_500_price_high_log']  # Add log-transformed features\n",
    "data = data[key_features + ['price_doc']]"
   ]
  },
  {
   "cell_type": "code",
   "execution_count": 5,
   "metadata": {},
   "outputs": [],
   "source": [
    "# Handling any potential infinities or NaNs\n",
    "data.replace([np.inf, -np.inf], np.nan, inplace=True)\n",
    "data.fillna(0, inplace=True)\n",
    "\n",
    "# Splitting the data into features (X) and target variable (y)\n",
    "X = data.drop('price_doc', axis=1)\n",
    "y = data['price_doc']\n",
    "\n",
    "# Splitting the dataset into training and validation sets\n",
    "X_train, X_val, y_train, y_val = train_test_split(X, y, test_size=0.2, random_state=42)\n",
    "\n",
    "# Feature Scaling using Robust Scaling\n",
    "scaler = RobustScaler()\n",
    "X_train_scaled = scaler.fit_transform(X_train)\n",
    "X_val_scaled = scaler.transform(X_val)"
   ]
  },
  {
   "cell_type": "code",
   "execution_count": 6,
   "metadata": {},
   "outputs": [],
   "source": [
    "# Define the learning rate\n",
    "learning_rate = 0.001  # You can change this value as needed\n",
    "batch_size = 32 # Adjust the batch size"
   ]
  },
  {
   "cell_type": "code",
   "execution_count": 7,
   "metadata": {},
   "outputs": [],
   "source": [
    "model = Sequential([\n",
    "    Dense(256, activation='relu', input_shape=(X_train_scaled.shape[1],)),\n",
    "    Dropout(0.4),  # Increased dropout rate\n",
    "    Dense(128, activation='relu'),\n",
    "    Dropout(0.3),  # Added dropout layer\n",
    "    Dense(64, activation='relu'),\n",
    "    Dropout(0.2),\n",
    "    Dense(32, activation='relu'),\n",
    "    Dense(1, activation='linear')  # Output layer for regression\n",
    "])\n"
   ]
  },
  {
   "cell_type": "code",
   "execution_count": 8,
   "metadata": {},
   "outputs": [],
   "source": [
    "# Compiling the Model with a custom learning rate\n",
    "model.compile(optimizer=Adam(learning_rate=learning_rate), loss='mean_squared_error', metrics=[RootMeanSquaredError(name='rmse')])\n"
   ]
  },
  {
   "cell_type": "code",
   "execution_count": 9,
   "metadata": {},
   "outputs": [],
   "source": [
    "# Implementing Early Stopping\n",
    "early_stopping = EarlyStopping(monitor='val_loss', patience=40, restore_best_weights=True)"
   ]
  },
  {
   "cell_type": "code",
   "execution_count": 10,
   "metadata": {},
   "outputs": [
    {
     "name": "stdout",
     "output_type": "stream",
     "text": [
      "Epoch 1/150\n",
      "4538/4538 [==============================] - 9s 2ms/step - loss: 234781367336960.0000 - rmse: 15322577.0000 - val_loss: 195599353774080.0000 - val_rmse: 13985684.0000\n",
      "Epoch 2/150\n",
      "4538/4538 [==============================] - 8s 2ms/step - loss: 192828781101056.0000 - rmse: 13886280.0000 - val_loss: 183584300204032.0000 - val_rmse: 13549328.0000\n",
      "Epoch 3/150\n",
      "4538/4538 [==============================] - 8s 2ms/step - loss: 189024564150272.0000 - rmse: 13748620.0000 - val_loss: 181197774782464.0000 - val_rmse: 13460972.0000\n",
      "Epoch 4/150\n",
      "4538/4538 [==============================] - 8s 2ms/step - loss: 186546317688832.0000 - rmse: 13658196.0000 - val_loss: 179463195197440.0000 - val_rmse: 13396387.0000\n",
      "Epoch 5/150\n",
      "4538/4538 [==============================] - 8s 2ms/step - loss: 185106195021824.0000 - rmse: 13605374.0000 - val_loss: 177948128706560.0000 - val_rmse: 13339720.0000\n",
      "Epoch 6/150\n",
      "4538/4538 [==============================] - 7s 2ms/step - loss: 184315015069696.0000 - rmse: 13576267.0000 - val_loss: 179476465975296.0000 - val_rmse: 13396883.0000\n",
      "Epoch 7/150\n",
      "2906/4538 [==================>...........] - ETA: 2s - loss: 183807571394560.0000 - rmse: 13557565.0000"
     ]
    }
   ],
   "source": [
    "# Training the Model with the specified batch size\n",
    "history = model.fit(X_train_scaled, y_train, batch_size=32, epochs=150, validation_data=(X_val_scaled, y_val), callbacks=[early_stopping])"
   ]
  },
  {
   "cell_type": "code",
   "execution_count": null,
   "metadata": {},
   "outputs": [],
   "source": [
    "# Model Summary\n",
    "model.summary()"
   ]
  },
  {
   "cell_type": "code",
   "execution_count": null,
   "metadata": {},
   "outputs": [],
   "source": [
    "# Evaluating the model\n",
    "results = model.evaluate(X_val_scaled, y_val)\n",
    "print(f\"Validation RMSE: {results[1]}\")"
   ]
  },
  {
   "cell_type": "code",
   "execution_count": null,
   "metadata": {},
   "outputs": [],
   "source": [
    "# Load the test dataset\n",
    "test_file_path = 'test.csv'  # Replace with your test CSV file path\n",
    "test_data = pd.read_csv(test_file_path)\n",
    "\n",
    "# Applying the same logarithmic transformations as in the training data\n",
    "test_data['full_sq_log'] = np.log1p(test_data['full_sq'])\n",
    "test_data['leisure_count_500_log'] = np.log1p(test_data['leisure_count_500'])\n",
    "test_data['life_sq_log'] = np.log1p(test_data['life_sq'])\n",
    "test_data['cafe_count_500_price_high_log'] = np.log1p(test_data['cafe_count_500_price_high'])\n",
    "\n",
    "# Handling any potential infinities or NaNs\n",
    "test_data.replace([np.inf, -np.inf], np.nan, inplace=True)\n",
    "test_data.fillna(0, inplace=True)\n",
    "\n",
    "# Selecting the same features as used in the training data\n",
    "X_test = test_data[['full_sq', 'life_sq', 'floor', 'leisure_count_500', 'cafe_count_1000_price_high',\n",
    "                    'mosque_count_500', 'mosque_count_1000', 'cafe_count_500_price_high',\n",
    "                    'cafe_count_1000_price_high', 'cafe_count_500_price_4000', 'culture_objects_top_25_raion', \n",
    "                    'leisure_count_1000', 'trc_sqm_500', 'church_count_500', 'cafe_count_1000_price_1500', \n",
    "                    'mosque_count_1500', 'cafe_count_500', 'big_church_count_500',\n",
    "                    'public_transport_station_min_walk', 'metro_min_walk', 'kindergarten_km', 'preschool_km',\n",
    "                    'full_sq_log', 'life_sq_log', 'leisure_count_500_log', 'cafe_count_500_price_high_log']]\n",
    "\n",
    "\n",
    "# Scale the test data using the same scaler as the training data\n",
    "# Assuming the scaler is already fitted on the training data\n",
    "X_test_scaled = scaler.transform(X_test)\n",
    "\n",
    "# Make predictions using the trained model\n",
    "# Assuming 'model' is your trained model instance from the same notebook session\n",
    "predictions = model.predict(X_test_scaled)\n",
    "\n",
    "# Prepare submission\n",
    "submission = pd.DataFrame({\n",
    "    'row ID': test_data['row ID'],  # Replace 'ID' with the identifier column of your test dataset\n",
    "    'price_doc': predictions.flatten()\n",
    "})\n",
    "submission.to_csv('predictions.csv', index=False)\n"
   ]
  }
 ],
 "metadata": {
  "kernelspec": {
   "display_name": "Python 3",
   "language": "python",
   "name": "python3"
  },
  "language_info": {
   "codemirror_mode": {
    "name": "ipython",
    "version": 3
   },
   "file_extension": ".py",
   "mimetype": "text/x-python",
   "name": "python",
   "nbconvert_exporter": "python",
   "pygments_lexer": "ipython3",
   "version": "3.11.3"
  }
 },
 "nbformat": 4,
 "nbformat_minor": 2
}
