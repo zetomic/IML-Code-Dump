{
 "cells": [
  {
   "cell_type": "code",
   "execution_count": 1,
   "metadata": {},
   "outputs": [],
   "source": [
    "import pandas as pd\n",
    "import numpy as np\n",
    "from sklearn.model_selection import train_test_split\n",
    "from sklearn.preprocessing import MinMaxScaler, RobustScaler\n",
    "import tensorflow as tf\n",
    "from tensorflow.keras.models import Sequential\n",
    "from tensorflow.keras.layers import Dense, Dropout, BatchNormalization, LeakyReLU, PReLU, ReLU\n",
    "from tensorflow.keras.regularizers import l2, l1_l2\n",
    "from tensorflow.keras.metrics import RootMeanSquaredError\n",
    "from tensorflow.keras.optimizers import Adam\n",
    "from tensorflow.keras.callbacks import EarlyStopping\n",
    "from tensorflow.keras.initializers import he_normal\n",
    "from tensorflow.keras.optimizers.schedules import ExponentialDecay"
   ]
  },
  {
   "cell_type": "code",
   "execution_count": 2,
   "metadata": {},
   "outputs": [
    {
     "name": "stdout",
     "output_type": "stream",
     "text": [
      "TensorFlow version: 2.12.0\n",
      "TensorFlow was not built with CUDA\n"
     ]
    }
   ],
   "source": [
    "import tensorflow as tf\n",
    "\n",
    "# Check TensorFlow version (should be a version that supports GPU)\n",
    "print(\"TensorFlow version:\", tf.__version__)\n",
    "\n",
    "# Check if GPU is available\n",
    "if tf.test.is_built_with_cuda():\n",
    "    print(\"TensorFlow was built with CUDA\")\n",
    "    gpus = tf.config.list_physical_devices('GPU')\n",
    "    if gpus:\n",
    "        try:\n",
    "            # Currently, memory growth needs to be the same across GPUs\n",
    "            for gpu in gpus:\n",
    "                tf.config.experimental.set_memory_growth(gpu, True)\n",
    "            logical_gpus = tf.config.experimental.list_logical_devices('GPU')\n",
    "            print(len(gpus), \"Physical GPUs,\", len(logical_gpus), \"Logical GPUs\")\n",
    "        except RuntimeError as e:\n",
    "            # Memory growth must be set before GPUs have been initialized\n",
    "            print(e)\n",
    "    else:\n",
    "        print(\"No GPU devices available.\")\n",
    "else:\n",
    "    print(\"TensorFlow was not built with CUDA\")"
   ]
  },
  {
   "cell_type": "code",
   "execution_count": 5,
   "metadata": {},
   "outputs": [],
   "source": [
    "# Load the dataset\n",
    "file_path = 'train.csv'  # Replace with your CSV file path\n",
    "data = pd.read_csv(file_path)"
   ]
  },
  {
   "cell_type": "code",
   "execution_count": 6,
   "metadata": {},
   "outputs": [],
   "source": [
    "# Applying logarithmic transformations\n",
    "data['full_sq_log'] = np.log1p(data['full_sq'])\n",
    "data['leisure_count_500_log'] = np.log1p(data['leisure_count_500'])\n",
    "data['life_sq_log'] = np.log1p(data['life_sq'])\n",
    "data['cafe_count_500_price_high_log'] = np.log1p(data['cafe_count_500_price_high'])"
   ]
  },
  {
   "cell_type": "code",
   "execution_count": 7,
   "metadata": {},
   "outputs": [],
   "source": [
    "# Add log-transformed features to the list of key features\n",
    "key_features = ['full_sq', 'life_sq', 'floor', 'leisure_count_500', 'cafe_count_1000_price_high',\n",
    "                'mosque_count_500', 'mosque_count_1000', 'cafe_count_500_price_high',\n",
    "                'cafe_count_1000_price_high', 'cafe_count_500_price_4000', 'culture_objects_top_25_raion', \n",
    "                'leisure_count_1000', 'trc_sqm_500', 'church_count_500', 'cafe_count_1000_price_1500', \n",
    "                'mosque_count_1500', 'cafe_count_500', 'big_church_count_500',\n",
    "                'public_transport_station_min_walk', 'metro_min_walk', 'kindergarten_km', 'preschool_km',\n",
    "                'full_sq_log', 'life_sq_log', 'leisure_count_500_log', 'cafe_count_500_price_high_log']  # Add log-transformed features\n",
    "data = data[key_features + ['price_doc']]"
   ]
  },
  {
   "cell_type": "code",
   "execution_count": 8,
   "metadata": {},
   "outputs": [],
   "source": [
    "# Handling any potential infinities or NaNs\n",
    "data.replace([np.inf, -np.inf], np.nan, inplace=True)\n",
    "data.fillna(0, inplace=True)\n",
    "\n",
    "# Splitting the data into features (X) and target variable (y)\n",
    "X = data.drop('price_doc', axis=1)\n",
    "y = data['price_doc']\n",
    "\n",
    "# Splitting the dataset into training and validation sets\n",
    "X_train, X_val, y_train, y_val = train_test_split(X, y, test_size=0.2, random_state=42)\n",
    "\n",
    "# Feature Scaling using Robust Scaling\n",
    "scaler = RobustScaler()\n",
    "X_train_scaled = scaler.fit_transform(X_train)\n",
    "X_val_scaled = scaler.transform(X_val)"
   ]
  },
  {
   "cell_type": "code",
   "execution_count": 9,
   "metadata": {},
   "outputs": [],
   "source": [
    "\n",
    "batch_size = 64 # Adjust the batch size\n",
    "l2_reg = 0.01"
   ]
  },
  {
   "cell_type": "code",
   "execution_count": 10,
   "metadata": {},
   "outputs": [],
   "source": [
    "\n",
    "# Configuration\n",
    "initial_learning_rate = 0.003  # Initial learning rate\n",
    "epochs_to_decay = 5            # Decay every 3 epochs\n",
    "decay_rate = 0.9               # Reduce to 90% of the previous rate\n",
    "decay_steps = 2269 * 5  # Steps after which to apply decay\n",
    "\n",
    "# Set up the learning rate schedule\n",
    "lr_schedule = ExponentialDecay(initial_learning_rate, decay_steps=decay_steps, decay_rate=decay_rate, staircase=True)\n",
    "\n"
   ]
  },
  {
   "cell_type": "code",
   "execution_count": 16,
   "metadata": {},
   "outputs": [],
   "source": [
    "model = Sequential([\n",
    "    Dense(4112, kernel_initializer='he_normal', input_shape=(X_train_scaled.shape[1],)),\n",
    "    PReLU(),\n",
    "    BatchNormalization(),\n",
    "    Dense(2056),\n",
    "    PReLU(),\n",
    "    BatchNormalization(),\n",
    "    Dense(1028),\n",
    "    PReLU(),\n",
    "    BatchNormalization(),\n",
    "    Dense(512, kernel_initializer='he_normal'),\n",
    "    PReLU(),\n",
    "    BatchNormalization(),\n",
    "    Dense(256),\n",
    "    PReLU(),\n",
    "    BatchNormalization(),\n",
    "    Dense(128, kernel_initializer='he_normal'),\n",
    "    PReLU(),\n",
    "    Dense(64),\n",
    "    PReLU(),\n",
    "    Dense(32, kernel_regularizer=l1_l2(l1=1e-5, l2=1e-4), kernel_initializer='he_normal'),\n",
    "    PReLU(),\n",
    "    Dense(1, activation='linear', kernel_initializer='he_normal')\n",
    "])\n"
   ]
  },
  {
   "cell_type": "code",
   "execution_count": 17,
   "metadata": {},
   "outputs": [],
   "source": [
    "model.compile(optimizer=Adam(learning_rate=lr_schedule), loss='mean_squared_error', metrics=[RootMeanSquaredError(name='rmse')])\n",
    "\n"
   ]
  },
  {
   "cell_type": "code",
   "execution_count": 13,
   "metadata": {},
   "outputs": [],
   "source": [
    "# Implementing Early Stopping\n",
    "early_stopping = EarlyStopping(monitor='val_loss', patience=20, restore_best_weights=True)"
   ]
  },
  {
   "cell_type": "code",
   "execution_count": 18,
   "metadata": {},
   "outputs": [
    {
     "name": "stdout",
     "output_type": "stream",
     "text": [
      "Epoch 1/120\n",
      "  59/1135 [>.............................] - ETA: 2:09 - loss: 700386356756480.0000 - rmse: 26464814.0000"
     ]
    }
   ],
   "source": [
    "# Training the Model with the specified batch size\n",
    "history = model.fit(X_train_scaled, y_train, batch_size=128, epochs=120, validation_data=(X_val_scaled, y_val), callbacks=[early_stopping])"
   ]
  },
  {
   "cell_type": "code",
   "execution_count": null,
   "metadata": {},
   "outputs": [],
   "source": [
    "# Model Summary\n",
    "model.summary()"
   ]
  },
  {
   "cell_type": "code",
   "execution_count": null,
   "metadata": {},
   "outputs": [],
   "source": [
    "# Evaluating the model\n",
    "results = model.evaluate(X_val_scaled, y_val)\n",
    "print(f\"Validation RMSE: {results[1]}\")"
   ]
  },
  {
   "cell_type": "code",
   "execution_count": null,
   "metadata": {},
   "outputs": [],
   "source": [
    "# Load the test dataset\n",
    "test_file_path = 'test.csv'  # Replace with your test CSV file path\n",
    "test_data = pd.read_csv(test_file_path)\n",
    "\n",
    "# Applying the same logarithmic transformations as in the training data\n",
    "test_data['full_sq_log'] = np.log1p(test_data['full_sq'])\n",
    "test_data['leisure_count_500_log'] = np.log1p(test_data['leisure_count_500'])\n",
    "test_data['life_sq_log'] = np.log1p(test_data['life_sq'])\n",
    "test_data['cafe_count_500_price_high_log'] = np.log1p(test_data['cafe_count_500_price_high'])\n",
    "\n",
    "# Handling any potential infinities or NaNs\n",
    "test_data.replace([np.inf, -np.inf], np.nan, inplace=True)\n",
    "test_data.fillna(0, inplace=True)\n",
    "\n",
    "# Selecting the same features as used in the training data\n",
    "X_test = test_data[['full_sq', 'life_sq', 'floor', 'leisure_count_500', 'cafe_count_1000_price_high',\n",
    "                    'mosque_count_500', 'mosque_count_1000', 'cafe_count_500_price_high',\n",
    "                    'cafe_count_1000_price_high', 'cafe_count_500_price_4000', 'culture_objects_top_25_raion', \n",
    "                    'leisure_count_1000', 'trc_sqm_500', 'church_count_500', 'cafe_count_1000_price_1500', \n",
    "                    'mosque_count_1500', 'cafe_count_500', 'big_church_count_500',\n",
    "                    'public_transport_station_min_walk', 'metro_min_walk', 'kindergarten_km', 'preschool_km',\n",
    "                    'full_sq_log', 'life_sq_log', 'leisure_count_500_log', 'cafe_count_500_price_high_log']]\n",
    "\n",
    "\n",
    "# Scale the test data using the same scaler as the training data\n",
    "# Assuming the scaler is already fitted on the training data\n",
    "X_test_scaled = scaler.transform(X_test)\n",
    "\n",
    "# Make predictions using the trained model\n",
    "# Assuming 'model' is your trained model instance from the same notebook session\n",
    "predictions = model.predict(X_test_scaled)\n",
    "\n",
    "# Prepare submission\n",
    "submission = pd.DataFrame({\n",
    "    'row ID': test_data['row ID'],  # Replace 'ID' with the identifier column of your test dataset\n",
    "    'price_doc': predictions.flatten()\n",
    "})\n",
    "submission.to_csv('predictions.csv', index=False)\n"
   ]
  }
 ],
 "metadata": {
  "kernelspec": {
   "display_name": "Python 3",
   "language": "python",
   "name": "python3"
  },
  "language_info": {
   "codemirror_mode": {
    "name": "ipython",
    "version": 3
   },
   "file_extension": ".py",
   "mimetype": "text/x-python",
   "name": "python",
   "nbconvert_exporter": "python",
   "pygments_lexer": "ipython3",
   "version": "3.11.4"
  }
 },
 "nbformat": 4,
 "nbformat_minor": 2
}
