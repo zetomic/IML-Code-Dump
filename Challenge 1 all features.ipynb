{
 "cells": [
  {
   "cell_type": "code",
   "execution_count": null,
   "metadata": {},
   "outputs": [],
   "source": [
    "import pandas as pd\n",
    "from sklearn.tree import DecisionTreeClassifier\n",
    "from sklearn.naive_bayes import GaussianNB\n",
    "from sklearn.neighbors import KNeighborsClassifier\n",
    "from sklearn.model_selection import train_test_split\n",
    "from sklearn.metrics import accuracy_score\n",
    "from sklearn.preprocessing import OneHotEncoder, StandardScaler\n"
   ]
  },
  {
   "cell_type": "markdown",
   "metadata": {},
   "source": [
    "Load datasets"
   ]
  },
  {
   "cell_type": "code",
   "execution_count": null,
   "metadata": {},
   "outputs": [],
   "source": [
    "train_url = \"https://raw.githubusercontent.com/zetomic/dataset/main/train.csv\"\n",
    "test_url = \"https://raw.githubusercontent.com/zetomic/dataset/main/test.csv\"\n",
    "\n",
    "train_data = pd.read_csv(train_url)\n",
    "test_data = pd.read_csv(test_url)\n"
   ]
  },
  {
   "cell_type": "code",
   "execution_count": null,
   "metadata": {},
   "outputs": [],
   "source": [
    "\n",
    "\n",
    "#One-hot encode categorical variables for train_data\n",
    "encoder = OneHotEncoder(drop='first', sparse=False)\n",
    "encoded_features = encoder.fit_transform(train_data.select_dtypes(include=['object']))\n",
    "train_encoded = pd.DataFrame(encoded_features, columns=encoder.get_feature_names_out(train_data.select_dtypes(include=['object']).columns))\n",
    "train_data = train_data.drop(train_data.select_dtypes(include=['object']).columns, axis=1)\n",
    "train_data = pd.concat([train_data, train_encoded], axis=1)\n",
    "\n",
    "#One-hot encode test data and handle missing values\n",
    "encoded_features_test = encoder.transform(test_data.select_dtypes(include=['object']))\n",
    "test_encoded = pd.DataFrame(encoded_features_test, columns=encoder.get_feature_names_out(test_data.select_dtypes(include=['object']).columns))\n",
    "test_data = test_data.drop(test_data.select_dtypes(include=['object']).columns, axis=1)\n",
    "test_data = pd.concat([test_data, test_encoded], axis=1)\n",
    "\n",
    "#Handle missing values\n",
    "train_data = train_data.fillna(train_data.median())\n",
    "test_data = test_data.fillna(train_data.median())\n",
    "\n",
    "#Ensure both train and test data have the same columns\n",
    "missing_cols = set(train_data.columns) - set(test_data.columns)\n",
    "for c in missing_cols:\n",
    "    test_data[c] = 0\n",
    "test_data = test_data[train_data.columns.drop('hospital_death')]\n",
    "\n",
    "#Splitting data into training and validation sets\n",
    "X_train, X_val, y_train, y_val = train_test_split(train_data.drop('hospital_death', axis=1), train_data['hospital_death'], test_size=0.2, random_state=42)\n",
    "\n",
    "#Standardize the data for KNN\n",
    "scaler = StandardScaler()\n",
    "X_train_scaled = scaler.fit_transform(X_train)\n",
    "X_val_scaled = scaler.transform(X_val)\n",
    "test_data_scaled = scaler.transform(test_data)\n",
    "\n",
    "# Decision Tree\n",
    "clf_tree = DecisionTreeClassifier(random_state=42)\n",
    "clf_tree.fit(X_train, y_train)\n",
    "y_val_pred_tree = clf_tree.predict(X_val)\n",
    "val_accuracy_tree = accuracy_score(y_val, y_val_pred_tree)\n",
    "print(f\"Decision Tree Accuracy on validation set: {val_accuracy_tree * 100:.2f}%\")\n",
    "y_test_proba_tree = clf_tree.predict_proba(test_data)[:, 1]\n",
    "output_df_tree = pd.DataFrame({'RecordID': test_data['RecordID'].astype(int), 'hospital_death': y_test_proba_tree})\n",
    "output_df_tree.to_csv('decision_tree_target.csv', index=False, float_format='%.15f')\n",
    "\n",
    "# Naive Bayes\n",
    "clf_nb = GaussianNB()\n",
    "clf_nb.fit(X_train, y_train)\n",
    "y_val_pred_nb = clf_nb.predict(X_val)\n",
    "val_accuracy_nb = accuracy_score(y_val, y_val_pred_nb)\n",
    "print(f\"Naive Bayes Accuracy on validation set: {val_accuracy_nb * 100:.2f}%\")\n",
    "y_test_proba_nb = clf_nb.predict_proba(test_data)[:, 1]\n",
    "output_df_nb = pd.DataFrame({'RecordID': test_data['RecordID'].astype(int), 'hospital_death': y_test_proba_nb})\n",
    "output_df_nb.to_csv('naive_bayes_target.csv', index=False, float_format='%.15f')\n",
    "\n",
    "# KNN\n",
    "clf_knn = KNeighborsClassifier()\n",
    "clf_knn.fit(X_train_scaled, y_train)\n",
    "y_val_pred_knn = clf_knn.predict(X_val_scaled)\n",
    "val_accuracy_knn = accuracy_score(y_val, y_val_pred_knn)\n",
    "print(f\"KNN Accuracy on validation set: {val_accuracy_knn * 100:.2f}%\")\n",
    "y_test_proba_knn = clf_knn.predict_proba(test_data_scaled)[:, 1]\n",
    "output_df_knn = pd.DataFrame({'RecordID': test_data['RecordID'].astype(int), 'hospital_death': y_test_proba_knn})\n",
    "output_df_knn.to_csv('KNN_target.csv', index=False, float_format='%.15f')\n",
    "\n",
    "print(\"Probability predictions for test set with high precision are saved in respective CSV files.\")"
   ]
  }
 ],
 "metadata": {
  "kernelspec": {
   "display_name": "Python 3 (ipykernel)",
   "language": "python",
   "name": "python3"
  },
  "language_info": {
   "codemirror_mode": {
    "name": "ipython",
    "version": 3
   },
   "file_extension": ".py",
   "mimetype": "text/x-python",
   "name": "python",
   "nbconvert_exporter": "python",
   "pygments_lexer": "ipython3",
   "version": "3.11.3"
  }
 },
 "nbformat": 4,
 "nbformat_minor": 4
}
