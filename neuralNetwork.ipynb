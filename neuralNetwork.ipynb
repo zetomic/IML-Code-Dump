{
 "cells": [
  {
   "cell_type": "markdown",
   "metadata": {},
   "source": [
    "Nueral Network"
   ]
  },
  {
   "cell_type": "code",
   "execution_count": 25,
   "metadata": {},
   "outputs": [],
   "source": [
    "import pandas as pd   \n",
    "import time\n",
    "from sklearn.model_selection import train_test_split #, RepeatedKFold, GridSearchCV, cross_val_score\n",
    "from sklearn.metrics import roc_curve, roc_auc_score\n",
    "from sklearn.preprocessing import LabelEncoder, StandardScaler, PolynomialFeatures\n",
    "import warnings\n",
    "import os\n",
    "warnings.filterwarnings('ignore')"
   ]
  },
  {
   "cell_type": "code",
   "execution_count": 26,
   "metadata": {},
   "outputs": [
    {
     "data": {
      "text/plain": [
       "(181507, 272)"
      ]
     },
     "execution_count": 26,
     "metadata": {},
     "output_type": "execute_result"
    }
   ],
   "source": [
    "train_data = pd.read_csv('train.csv') \n",
    "train_data.shape"
   ]
  },
  {
   "cell_type": "code",
   "execution_count": 27,
   "metadata": {},
   "outputs": [
    {
     "data": {
      "text/plain": [
       "(77789, 271)"
      ]
     },
     "execution_count": 27,
     "metadata": {},
     "output_type": "execute_result"
    }
   ],
   "source": [
    "test_data = pd.read_csv('test.csv')\n",
    "test_data = test_data.drop('row ID', axis=1)\n",
    "test_data.shape"
   ]
  },
  {
   "cell_type": "code",
   "execution_count": 28,
   "metadata": {},
   "outputs": [],
   "source": [
    "# One-hot encode 'sub_area' column in both datasets\n",
    "train_data = pd.get_dummies(train_data, columns=['sub_area'], prefix='', prefix_sep='')\n",
    "test_data = pd.get_dummies(test_data, columns=['sub_area'], prefix='', prefix_sep='')\n",
    "\n",
    "# Identify sub_areas present in the training data but not in the test data\n",
    "target_column = 'price_doc'\n",
    "train_unique_sub_areas = set(train_data.columns) - set(test_data.columns) - {target_column}\n",
    "\n",
    "# Create 'other_sub_area' column for both datasets\n",
    "train_data['other_sub_area'] = 0\n",
    "test_data['other_sub_area'] = 0\n",
    "\n",
    "# Set values for 'other_sub_area' column in the training data\n",
    "train_data.loc[:, 'other_sub_area'] = (\n",
    "    (train_data[list(train_unique_sub_areas)].sum(axis=1) == 0) & (train_data['other_sub_area'] == 0)\n",
    ").astype(int)\n",
    "\n",
    "# Remove columns for uncommon sub_areas in the training data\n",
    "train_data = train_data.drop(columns=list(train_unique_sub_areas))\n",
    "\n",
    "# Convert data types to integer\n",
    "# train_data = train_data.astype(int)\n",
    "# test_data = test_data.astype(int)\n"
   ]
  },
  {
   "cell_type": "code",
   "execution_count": 29,
   "metadata": {},
   "outputs": [],
   "source": [
    "categorical_cols = train_data.select_dtypes(include=['object']).columns"
   ]
  },
  {
   "cell_type": "code",
   "execution_count": 30,
   "metadata": {},
   "outputs": [],
   "source": [
    "for col in categorical_cols:\n",
    "    le = LabelEncoder()\n",
    "    train_data[col] = le.fit_transform(train_data[col])\n"
   ]
  },
  {
   "cell_type": "code",
   "execution_count": 31,
   "metadata": {},
   "outputs": [],
   "source": [
    "for col in categorical_cols:\n",
    "    one_hot_encoded = pd.get_dummies(train_data[col], prefix=col, drop_first=True)\n",
    "    train_data = pd.concat([train_data, one_hot_encoded], axis=1)\n",
    "    train_data.drop(col, axis=1, inplace=True)"
   ]
  },
  {
   "cell_type": "code",
   "execution_count": 32,
   "metadata": {},
   "outputs": [],
   "source": [
    "for col in categorical_cols:\n",
    "    one_hot_encoded = pd.get_dummies(test_data[col], prefix=col, drop_first=True)\n",
    "    test_data = pd.concat([test_data, one_hot_encoded], axis=1)\n",
    "    test_data.drop(col, axis=1, inplace=True)"
   ]
  },
  {
   "cell_type": "code",
   "execution_count": 33,
   "metadata": {},
   "outputs": [],
   "source": [
    "train_data = train_data.astype('float32')\n",
    "test_data = test_data.astype('float32')"
   ]
  },
  {
   "cell_type": "code",
   "execution_count": 34,
   "metadata": {},
   "outputs": [],
   "source": [
    "X = train_data.drop('price_doc', axis=1)\n",
    "y = train_data['price_doc']"
   ]
  },
  {
   "cell_type": "code",
   "execution_count": 35,
   "metadata": {},
   "outputs": [],
   "source": [
    "scaler = StandardScaler()\n",
    "X_scaled = scaler.fit_transform(X)\n",
    "trainX, testX, trainy, testy = train_test_split(X_scaled, y, test_size=0.3, random_state=2)"
   ]
  },
  {
   "cell_type": "code",
   "execution_count": 36,
   "metadata": {},
   "outputs": [
    {
     "data": {
      "text/plain": [
       "price_doc\n",
       "1000000.00     1131\n",
       "2000000.00      876\n",
       "3480000.00      337\n",
       "3000000.00      276\n",
       "6000000.00      177\n",
       "               ... \n",
       "2424427.00        1\n",
       "3514343.25        1\n",
       "11174028.00       1\n",
       "13186980.00       1\n",
       "10798442.00       1\n",
       "Name: count, Length: 45880, dtype: int64"
      ]
     },
     "execution_count": 36,
     "metadata": {},
     "output_type": "execute_result"
    }
   ],
   "source": [
    "testy.value_counts()"
   ]
  },
  {
   "cell_type": "code",
   "execution_count": 37,
   "metadata": {},
   "outputs": [
    {
     "data": {
      "text/plain": [
       "(127054, 2183)"
      ]
     },
     "execution_count": 37,
     "metadata": {},
     "output_type": "execute_result"
    }
   ],
   "source": [
    "trainX.shape"
   ]
  },
  {
   "cell_type": "code",
   "execution_count": 38,
   "metadata": {},
   "outputs": [
    {
     "data": {
      "text/plain": [
       "(54453, 2183)"
      ]
     },
     "execution_count": 38,
     "metadata": {},
     "output_type": "execute_result"
    }
   ],
   "source": [
    "testX.shape"
   ]
  },
  {
   "cell_type": "code",
   "execution_count": 39,
   "metadata": {},
   "outputs": [],
   "source": [
    "trainX = trainX.astype('float32')\n",
    "testX = testX.astype('float32')\n",
    "trainy = trainy.astype('float32')\n",
    "testy = testy.astype('float32')"
   ]
  },
  {
   "cell_type": "code",
   "execution_count": 40,
   "metadata": {},
   "outputs": [],
   "source": [
    "import torch\n",
    "os.environ[\"KERAS_BACKEND\"] = \"torch\"\n",
    "import tensorflow as tf\n",
    "from tensorflow import keras\n",
    "from tensorflow.keras import layers\n",
    "from keras.models import Sequential\n",
    "from keras.layers import Dense, Dropout\n",
    "physical_devices = tf.config.list_physical_devices('GPU')\n",
    "if len(physical_devices) > 0:\n",
    "    tf.config.experimental.set_memory_growth(physical_devices[0], True)"
   ]
  },
  {
   "cell_type": "code",
   "execution_count": 41,
   "metadata": {},
   "outputs": [],
   "source": [
    "n_features = trainX.shape[1]\n",
    "# Create a Sequential model\n",
    "model = keras.Sequential([\n",
    "    layers.Dense(256, activation='relu', input_shape=[trainX.shape[1]]),\n",
    "    layers.Dense(128, activation='relu'),\n",
    "    layers.Dense(64, activation='relu'),\n",
    "    layers.Dense(1)\n",
    "])"
   ]
  },
  {
   "cell_type": "code",
   "execution_count": 42,
   "metadata": {},
   "outputs": [
    {
     "name": "stdout",
     "output_type": "stream",
     "text": [
      "Model: \"sequential_1\"\n",
      "_________________________________________________________________\n",
      " Layer (type)                Output Shape              Param #   \n",
      "=================================================================\n",
      " dense_3 (Dense)             (None, 256)               559104    \n",
      "                                                                 \n",
      " dense_4 (Dense)             (None, 128)               32896     \n",
      "                                                                 \n",
      " dense_5 (Dense)             (None, 64)                8256      \n",
      "                                                                 \n",
      " dense_6 (Dense)             (None, 1)                 65        \n",
      "                                                                 \n",
      "=================================================================\n",
      "Total params: 600321 (2.29 MB)\n",
      "Trainable params: 600321 (2.29 MB)\n",
      "Non-trainable params: 0 (0.00 Byte)\n",
      "_________________________________________________________________\n",
      "None\n"
     ]
    }
   ],
   "source": [
    "model.compile(optimizer='adam', loss='mean_squared_error', metrics=['accuracy', 'mse']) #change optimizer\n",
    "\n",
    "# Print the model summary\n",
    "print(model.summary())"
   ]
  },
  {
   "cell_type": "code",
   "execution_count": 43,
   "metadata": {},
   "outputs": [
    {
     "name": "stdout",
     "output_type": "stream",
     "text": [
      "Epoch 1/100\n",
      "128/128 [==============================] - 2s 14ms/step - loss: 691320351883264.0000 - accuracy: 0.0000e+00 - mse: 691320351883264.0000\n",
      "Epoch 2/100\n",
      "128/128 [==============================] - 2s 14ms/step - loss: 604416587595776.0000 - accuracy: 0.0000e+00 - mse: 604416587595776.0000\n",
      "Epoch 3/100\n",
      "128/128 [==============================] - 2s 14ms/step - loss: 282712598380544.0000 - accuracy: 0.0000e+00 - mse: 282712598380544.0000\n",
      "Epoch 4/100\n",
      "128/128 [==============================] - 2s 14ms/step - loss: 187437456293888.0000 - accuracy: 0.0000e+00 - mse: 187437456293888.0000\n",
      "Epoch 5/100\n",
      "128/128 [==============================] - 2s 14ms/step - loss: 181430793535488.0000 - accuracy: 0.0000e+00 - mse: 181430793535488.0000\n",
      "Epoch 6/100\n",
      "128/128 [==============================] - 2s 14ms/step - loss: 178137962905600.0000 - accuracy: 0.0000e+00 - mse: 178137962905600.0000\n",
      "Epoch 7/100\n",
      "128/128 [==============================] - 2s 14ms/step - loss: 175712916996096.0000 - accuracy: 0.0000e+00 - mse: 175712916996096.0000\n",
      "Epoch 8/100\n",
      "128/128 [==============================] - 2s 14ms/step - loss: 173715656540160.0000 - accuracy: 0.0000e+00 - mse: 173715656540160.0000\n",
      "Epoch 9/100\n",
      "128/128 [==============================] - 2s 14ms/step - loss: 172189215096832.0000 - accuracy: 0.0000e+00 - mse: 172189215096832.0000\n",
      "Epoch 10/100\n",
      "128/128 [==============================] - 2s 14ms/step - loss: 170726208307200.0000 - accuracy: 0.0000e+00 - mse: 170726208307200.0000\n",
      "Epoch 11/100\n",
      "128/128 [==============================] - 2s 14ms/step - loss: 169539690037248.0000 - accuracy: 0.0000e+00 - mse: 169539690037248.0000\n",
      "Epoch 12/100\n",
      "128/128 [==============================] - 2s 14ms/step - loss: 168453684068352.0000 - accuracy: 0.0000e+00 - mse: 168453684068352.0000\n",
      "Epoch 13/100\n",
      "128/128 [==============================] - 2s 15ms/step - loss: 167498171285504.0000 - accuracy: 0.0000e+00 - mse: 167498171285504.0000\n",
      "Epoch 14/100\n",
      "128/128 [==============================] - 2s 16ms/step - loss: 166637349109760.0000 - accuracy: 0.0000e+00 - mse: 166637349109760.0000\n",
      "Epoch 15/100\n",
      "128/128 [==============================] - 2s 15ms/step - loss: 165818386087936.0000 - accuracy: 0.0000e+00 - mse: 165818386087936.0000\n",
      "Epoch 16/100\n",
      "128/128 [==============================] - 2s 14ms/step - loss: 165069954482176.0000 - accuracy: 0.0000e+00 - mse: 165069954482176.0000\n",
      "Epoch 17/100\n",
      "128/128 [==============================] - 2s 14ms/step - loss: 164414535761920.0000 - accuracy: 0.0000e+00 - mse: 164414535761920.0000\n",
      "Epoch 18/100\n",
      "128/128 [==============================] - 2s 15ms/step - loss: 163728347627520.0000 - accuracy: 0.0000e+00 - mse: 163728347627520.0000\n",
      "Epoch 19/100\n",
      "128/128 [==============================] - 2s 14ms/step - loss: 163180437307392.0000 - accuracy: 0.0000e+00 - mse: 163180437307392.0000\n",
      "Epoch 20/100\n",
      "128/128 [==============================] - 2s 14ms/step - loss: 162618182467584.0000 - accuracy: 0.0000e+00 - mse: 162618182467584.0000\n",
      "Epoch 21/100\n",
      "128/128 [==============================] - 2s 15ms/step - loss: 162133169930240.0000 - accuracy: 0.0000e+00 - mse: 162133169930240.0000\n",
      "Epoch 22/100\n",
      "128/128 [==============================] - 2s 15ms/step - loss: 161684178075648.0000 - accuracy: 0.0000e+00 - mse: 161684178075648.0000\n",
      "Epoch 23/100\n",
      "128/128 [==============================] - 2s 15ms/step - loss: 161318317326336.0000 - accuracy: 0.0000e+00 - mse: 161318317326336.0000\n",
      "Epoch 24/100\n",
      "128/128 [==============================] - 2s 15ms/step - loss: 160907711741952.0000 - accuracy: 0.0000e+00 - mse: 160907711741952.0000\n",
      "Epoch 25/100\n",
      "128/128 [==============================] - 2s 14ms/step - loss: 160539938390016.0000 - accuracy: 0.0000e+00 - mse: 160539938390016.0000\n",
      "Epoch 26/100\n",
      "128/128 [==============================] - 2s 16ms/step - loss: 160276653539328.0000 - accuracy: 0.0000e+00 - mse: 160276653539328.0000\n",
      "Epoch 27/100\n",
      "128/128 [==============================] - 2s 15ms/step - loss: 160023669899264.0000 - accuracy: 0.0000e+00 - mse: 160023669899264.0000\n",
      "Epoch 28/100\n",
      "128/128 [==============================] - 2s 15ms/step - loss: 159833013616640.0000 - accuracy: 0.0000e+00 - mse: 159833013616640.0000\n",
      "Epoch 29/100\n",
      "128/128 [==============================] - 2s 18ms/step - loss: 159519111905280.0000 - accuracy: 0.0000e+00 - mse: 159519111905280.0000\n",
      "Epoch 30/100\n",
      "128/128 [==============================] - 2s 19ms/step - loss: 159339629248512.0000 - accuracy: 0.0000e+00 - mse: 159339629248512.0000\n",
      "Epoch 31/100\n",
      "128/128 [==============================] - 2s 16ms/step - loss: 159176135278592.0000 - accuracy: 0.0000e+00 - mse: 159176135278592.0000\n",
      "Epoch 32/100\n",
      "128/128 [==============================] - 2s 16ms/step - loss: 158986166861824.0000 - accuracy: 0.0000e+00 - mse: 158986166861824.0000\n",
      "Epoch 33/100\n",
      "128/128 [==============================] - 2s 17ms/step - loss: 158829400555520.0000 - accuracy: 0.0000e+00 - mse: 158829400555520.0000\n",
      "Epoch 34/100\n",
      "128/128 [==============================] - 2s 16ms/step - loss: 158709007253504.0000 - accuracy: 0.0000e+00 - mse: 158709007253504.0000\n",
      "Epoch 35/100\n",
      "128/128 [==============================] - 2s 15ms/step - loss: 158581013872640.0000 - accuracy: 0.0000e+00 - mse: 158581013872640.0000\n",
      "Epoch 36/100\n",
      "128/128 [==============================] - 2s 15ms/step - loss: 158441863643136.0000 - accuracy: 0.0000e+00 - mse: 158441863643136.0000\n",
      "Epoch 37/100\n",
      "128/128 [==============================] - 2s 15ms/step - loss: 158364889776128.0000 - accuracy: 0.0000e+00 - mse: 158364889776128.0000\n",
      "Epoch 38/100\n",
      "128/128 [==============================] - 2s 15ms/step - loss: 158285684539392.0000 - accuracy: 0.0000e+00 - mse: 158285684539392.0000\n",
      "Epoch 39/100\n",
      "128/128 [==============================] - 2s 16ms/step - loss: 158238892883968.0000 - accuracy: 0.0000e+00 - mse: 158238892883968.0000\n",
      "Epoch 40/100\n",
      "128/128 [==============================] - 2s 15ms/step - loss: 158075398914048.0000 - accuracy: 0.0000e+00 - mse: 158075398914048.0000\n",
      "Epoch 41/100\n",
      "128/128 [==============================] - 2s 16ms/step - loss: 158023238549504.0000 - accuracy: 0.0000e+00 - mse: 158023238549504.0000\n",
      "Epoch 42/100\n",
      "128/128 [==============================] - 2s 16ms/step - loss: 157973611544576.0000 - accuracy: 0.0000e+00 - mse: 157973611544576.0000\n",
      "Epoch 43/100\n",
      "128/128 [==============================] - 2s 15ms/step - loss: 157884256092160.0000 - accuracy: 0.0000e+00 - mse: 157884256092160.0000\n",
      "Epoch 44/100\n",
      "128/128 [==============================] - 2s 15ms/step - loss: 157834377428992.0000 - accuracy: 0.0000e+00 - mse: 157834377428992.0000\n",
      "Epoch 45/100\n",
      "128/128 [==============================] - 2s 15ms/step - loss: 157743059042304.0000 - accuracy: 0.0000e+00 - mse: 157743059042304.0000\n",
      "Epoch 46/100\n",
      "128/128 [==============================] - 2s 16ms/step - loss: 157707357126656.0000 - accuracy: 0.0000e+00 - mse: 157707357126656.0000\n",
      "Epoch 47/100\n",
      "128/128 [==============================] - 2s 17ms/step - loss: 157647210807296.0000 - accuracy: 0.0000e+00 - mse: 157647210807296.0000\n",
      "Epoch 48/100\n",
      "128/128 [==============================] - 2s 15ms/step - loss: 157612867846144.0000 - accuracy: 0.0000e+00 - mse: 157612867846144.0000\n",
      "Epoch 49/100\n",
      "128/128 [==============================] - 2s 16ms/step - loss: 157602281422848.0000 - accuracy: 0.0000e+00 - mse: 157602281422848.0000\n",
      "Epoch 50/100\n",
      "128/128 [==============================] - 2s 16ms/step - loss: 157477291163648.0000 - accuracy: 0.0000e+00 - mse: 157477291163648.0000\n",
      "Epoch 51/100\n",
      "128/128 [==============================] - 2s 16ms/step - loss: 157507641147392.0000 - accuracy: 0.0000e+00 - mse: 157507641147392.0000\n",
      "Epoch 52/100\n",
      "128/128 [==============================] - 2s 15ms/step - loss: 157369396887552.0000 - accuracy: 0.0000e+00 - mse: 157369396887552.0000\n",
      "Epoch 53/100\n",
      "128/128 [==============================] - 2s 15ms/step - loss: 157330121424896.0000 - accuracy: 0.0000e+00 - mse: 157330121424896.0000\n",
      "Epoch 54/100\n",
      "128/128 [==============================] - 2s 15ms/step - loss: 157310357864448.0000 - accuracy: 0.0000e+00 - mse: 157310357864448.0000\n",
      "Epoch 55/100\n",
      "128/128 [==============================] - 2s 16ms/step - loss: 157271602495488.0000 - accuracy: 0.0000e+00 - mse: 157271602495488.0000\n",
      "Epoch 56/100\n",
      "128/128 [==============================] - 2s 15ms/step - loss: 157189343805440.0000 - accuracy: 0.0000e+00 - mse: 157189343805440.0000\n",
      "Epoch 57/100\n",
      "128/128 [==============================] - 2s 17ms/step - loss: 157164345753600.0000 - accuracy: 0.0000e+00 - mse: 157164345753600.0000\n",
      "Epoch 58/100\n",
      "128/128 [==============================] - 2s 16ms/step - loss: 157160973533184.0000 - accuracy: 0.0000e+00 - mse: 157160973533184.0000\n",
      "Epoch 59/100\n",
      "128/128 [==============================] - 2s 16ms/step - loss: 157092690264064.0000 - accuracy: 0.0000e+00 - mse: 157092690264064.0000\n",
      "Epoch 60/100\n",
      "128/128 [==============================] - 2s 16ms/step - loss: 157037006684160.0000 - accuracy: 0.0000e+00 - mse: 157037006684160.0000\n",
      "Epoch 61/100\n",
      "128/128 [==============================] - 2s 16ms/step - loss: 157018719518720.0000 - accuracy: 0.0000e+00 - mse: 157018719518720.0000\n",
      "Epoch 62/100\n",
      "128/128 [==============================] - 2s 16ms/step - loss: 156976524820480.0000 - accuracy: 0.0000e+00 - mse: 156976524820480.0000\n",
      "Epoch 63/100\n",
      "128/128 [==============================] - 2s 16ms/step - loss: 156939094851584.0000 - accuracy: 0.0000e+00 - mse: 156939094851584.0000\n",
      "Epoch 64/100\n",
      "128/128 [==============================] - 2s 15ms/step - loss: 156925505306624.0000 - accuracy: 0.0000e+00 - mse: 156925505306624.0000\n",
      "Epoch 65/100\n",
      "128/128 [==============================] - 2s 16ms/step - loss: 156894182244352.0000 - accuracy: 0.0000e+00 - mse: 156894182244352.0000\n",
      "Epoch 66/100\n",
      "128/128 [==============================] - 2s 15ms/step - loss: 156859184971776.0000 - accuracy: 0.0000e+00 - mse: 156859184971776.0000\n",
      "Epoch 67/100\n",
      "128/128 [==============================] - 2s 16ms/step - loss: 156810984030208.0000 - accuracy: 0.0000e+00 - mse: 156810984030208.0000\n",
      "Epoch 68/100\n",
      "128/128 [==============================] - 2s 15ms/step - loss: 156814138146816.0000 - accuracy: 0.0000e+00 - mse: 156814138146816.0000\n",
      "Epoch 69/100\n",
      "128/128 [==============================] - 2s 16ms/step - loss: 156806739394560.0000 - accuracy: 0.0000e+00 - mse: 156806739394560.0000\n",
      "Epoch 70/100\n",
      "128/128 [==============================] - 2s 15ms/step - loss: 156713508405248.0000 - accuracy: 0.0000e+00 - mse: 156713508405248.0000\n",
      "Epoch 71/100\n",
      "128/128 [==============================] - 2s 16ms/step - loss: 156695305125888.0000 - accuracy: 0.0000e+00 - mse: 156695305125888.0000\n",
      "Epoch 72/100\n",
      "128/128 [==============================] - 2s 17ms/step - loss: 156697318391808.0000 - accuracy: 0.0000e+00 - mse: 156697318391808.0000\n",
      "Epoch 73/100\n",
      "128/128 [==============================] - 2s 16ms/step - loss: 156672605552640.0000 - accuracy: 0.0000e+00 - mse: 156672622329856.0000\n",
      "Epoch 74/100\n",
      "128/128 [==============================] - 2s 16ms/step - loss: 156664669929472.0000 - accuracy: 0.0000e+00 - mse: 156664669929472.0000\n",
      "Epoch 75/100\n",
      "128/128 [==============================] - 2s 16ms/step - loss: 156655761227776.0000 - accuracy: 0.0000e+00 - mse: 156655761227776.0000\n",
      "Epoch 76/100\n",
      "128/128 [==============================] - 2s 17ms/step - loss: 156560013656064.0000 - accuracy: 0.0000e+00 - mse: 156560013656064.0000\n",
      "Epoch 77/100\n",
      "128/128 [==============================] - 2s 15ms/step - loss: 156554309402624.0000 - accuracy: 0.0000e+00 - mse: 156554309402624.0000\n",
      "Epoch 78/100\n",
      "128/128 [==============================] - 2s 16ms/step - loss: 156570633633792.0000 - accuracy: 0.0000e+00 - mse: 156570633633792.0000\n",
      "Epoch 79/100\n",
      "128/128 [==============================] - 2s 15ms/step - loss: 156507165425664.0000 - accuracy: 0.0000e+00 - mse: 156507165425664.0000\n",
      "Epoch 80/100\n",
      "128/128 [==============================] - 2s 15ms/step - loss: 156530687082496.0000 - accuracy: 0.0000e+00 - mse: 156530687082496.0000\n",
      "Epoch 81/100\n",
      "128/128 [==============================] - 2s 16ms/step - loss: 156514950053888.0000 - accuracy: 0.0000e+00 - mse: 156514966831104.0000\n",
      "Epoch 82/100\n",
      "128/128 [==============================] - 2s 15ms/step - loss: 156454719848448.0000 - accuracy: 0.0000e+00 - mse: 156454719848448.0000\n",
      "Epoch 83/100\n",
      "128/128 [==============================] - 2s 16ms/step - loss: 156431315632128.0000 - accuracy: 0.0000e+00 - mse: 156431315632128.0000\n",
      "Epoch 84/100\n",
      "128/128 [==============================] - 2s 15ms/step - loss: 156420846649344.0000 - accuracy: 0.0000e+00 - mse: 156420846649344.0000\n",
      "Epoch 85/100\n",
      "128/128 [==============================] - 2s 16ms/step - loss: 156408314068992.0000 - accuracy: 0.0000e+00 - mse: 156408314068992.0000\n",
      "Epoch 86/100\n",
      "128/128 [==============================] - 2s 16ms/step - loss: 156414722965504.0000 - accuracy: 0.0000e+00 - mse: 156414722965504.0000\n",
      "Epoch 87/100\n",
      "128/128 [==============================] - 2s 15ms/step - loss: 156356220813312.0000 - accuracy: 0.0000e+00 - mse: 156356220813312.0000\n",
      "Epoch 88/100\n",
      "128/128 [==============================] - 2s 15ms/step - loss: 156314026115072.0000 - accuracy: 0.0000e+00 - mse: 156314026115072.0000\n",
      "Epoch 89/100\n",
      "128/128 [==============================] - 2s 15ms/step - loss: 156337614880768.0000 - accuracy: 0.0000e+00 - mse: 156337614880768.0000\n",
      "Epoch 90/100\n",
      "128/128 [==============================] - 2s 15ms/step - loss: 156275472072704.0000 - accuracy: 0.0000e+00 - mse: 156275472072704.0000\n",
      "Epoch 91/100\n",
      "128/128 [==============================] - 2s 16ms/step - loss: 156319780700160.0000 - accuracy: 0.0000e+00 - mse: 156319780700160.0000\n",
      "Epoch 92/100\n",
      "128/128 [==============================] - 2s 17ms/step - loss: 156257201684480.0000 - accuracy: 0.0000e+00 - mse: 156257201684480.0000\n",
      "Epoch 93/100\n",
      "128/128 [==============================] - 2s 15ms/step - loss: 156247655448576.0000 - accuracy: 0.0000e+00 - mse: 156247655448576.0000\n",
      "Epoch 94/100\n",
      "128/128 [==============================] - 2s 16ms/step - loss: 156228915298304.0000 - accuracy: 0.0000e+00 - mse: 156228915298304.0000\n",
      "Epoch 95/100\n",
      "128/128 [==============================] - 2s 17ms/step - loss: 156177644126208.0000 - accuracy: 0.0000e+00 - mse: 156177644126208.0000\n",
      "Epoch 96/100\n",
      "128/128 [==============================] - 2s 16ms/step - loss: 156197491572736.0000 - accuracy: 0.0000e+00 - mse: 156197491572736.0000\n",
      "Epoch 97/100\n",
      "128/128 [==============================] - 2s 16ms/step - loss: 156207440461824.0000 - accuracy: 0.0000e+00 - mse: 156207440461824.0000\n",
      "Epoch 98/100\n",
      "128/128 [==============================] - 2s 15ms/step - loss: 156134090473472.0000 - accuracy: 0.0000e+00 - mse: 156134090473472.0000\n",
      "Epoch 99/100\n",
      "128/128 [==============================] - 2s 16ms/step - loss: 156131875880960.0000 - accuracy: 0.0000e+00 - mse: 156131875880960.0000\n",
      "Epoch 100/100\n",
      "128/128 [==============================] - 2s 15ms/step - loss: 156102045990912.0000 - accuracy: 0.0000e+00 - mse: 156102045990912.0000\n"
     ]
    },
    {
     "data": {
      "text/plain": [
       "<keras.src.callbacks.History at 0x2831f6d2890>"
      ]
     },
     "execution_count": 43,
     "metadata": {},
     "output_type": "execute_result"
    }
   ],
   "source": [
    "model.fit(trainX, trainy, epochs=100, batch_size=1000)"
   ]
  },
  {
   "cell_type": "code",
   "execution_count": 44,
   "metadata": {},
   "outputs": [
    {
     "name": "stdout",
     "output_type": "stream",
     "text": [
      "55/55 [==============================] - 1s 7ms/step - loss: 190800432463872.0000 - accuracy: 0.0000e+00 - mse: 190800432463872.0000\n"
     ]
    },
    {
     "data": {
      "text/plain": [
       "[190800432463872.0, 0.0, 190800432463872.0]"
      ]
     },
     "execution_count": 44,
     "metadata": {},
     "output_type": "execute_result"
    }
   ],
   "source": [
    "model.evaluate(testX, testy, batch_size=1000)"
   ]
  },
  {
   "cell_type": "code",
   "execution_count": 45,
   "metadata": {},
   "outputs": [
    {
     "ename": "KeyError",
     "evalue": "'product_type'",
     "output_type": "error",
     "traceback": [
      "\u001b[1;31m---------------------------------------------------------------------------\u001b[0m",
      "\u001b[1;31mKeyError\u001b[0m                                  Traceback (most recent call last)",
      "File \u001b[1;32mc:\\Users\\zuhai\\AppData\\Local\\Programs\\Python\\Python311\\Lib\\site-packages\\pandas\\core\\indexes\\base.py:3652\u001b[0m, in \u001b[0;36mIndex.get_loc\u001b[1;34m(self, key)\u001b[0m\n\u001b[0;32m   3651\u001b[0m \u001b[39mtry\u001b[39;00m:\n\u001b[1;32m-> 3652\u001b[0m     \u001b[39mreturn\u001b[39;00m \u001b[39mself\u001b[39;49m\u001b[39m.\u001b[39;49m_engine\u001b[39m.\u001b[39;49mget_loc(casted_key)\n\u001b[0;32m   3653\u001b[0m \u001b[39mexcept\u001b[39;00m \u001b[39mKeyError\u001b[39;00m \u001b[39mas\u001b[39;00m err:\n",
      "File \u001b[1;32mc:\\Users\\zuhai\\AppData\\Local\\Programs\\Python\\Python311\\Lib\\site-packages\\pandas\\_libs\\index.pyx:147\u001b[0m, in \u001b[0;36mpandas._libs.index.IndexEngine.get_loc\u001b[1;34m()\u001b[0m\n",
      "File \u001b[1;32mc:\\Users\\zuhai\\AppData\\Local\\Programs\\Python\\Python311\\Lib\\site-packages\\pandas\\_libs\\index.pyx:176\u001b[0m, in \u001b[0;36mpandas._libs.index.IndexEngine.get_loc\u001b[1;34m()\u001b[0m\n",
      "File \u001b[1;32mpandas\\_libs\\hashtable_class_helper.pxi:7080\u001b[0m, in \u001b[0;36mpandas._libs.hashtable.PyObjectHashTable.get_item\u001b[1;34m()\u001b[0m\n",
      "File \u001b[1;32mpandas\\_libs\\hashtable_class_helper.pxi:7088\u001b[0m, in \u001b[0;36mpandas._libs.hashtable.PyObjectHashTable.get_item\u001b[1;34m()\u001b[0m\n",
      "\u001b[1;31mKeyError\u001b[0m: 'product_type'",
      "\nThe above exception was the direct cause of the following exception:\n",
      "\u001b[1;31mKeyError\u001b[0m                                  Traceback (most recent call last)",
      "\u001b[1;32mc:\\Users\\zuhai\\Desktop\\ML-Challlange 2\\neuralNetwork.ipynb Cell 22\u001b[0m line \u001b[0;36m3\n\u001b[0;32m      <a href='vscode-notebook-cell:/c%3A/Users/zuhai/Desktop/ML-Challlange%202/neuralNetwork.ipynb#X30sZmlsZQ%3D%3D?line=0'>1</a>\u001b[0m \u001b[39mfor\u001b[39;00m col \u001b[39min\u001b[39;00m categorical_cols:\n\u001b[0;32m      <a href='vscode-notebook-cell:/c%3A/Users/zuhai/Desktop/ML-Challlange%202/neuralNetwork.ipynb#X30sZmlsZQ%3D%3D?line=1'>2</a>\u001b[0m     le \u001b[39m=\u001b[39m LabelEncoder()\n\u001b[1;32m----> <a href='vscode-notebook-cell:/c%3A/Users/zuhai/Desktop/ML-Challlange%202/neuralNetwork.ipynb#X30sZmlsZQ%3D%3D?line=2'>3</a>\u001b[0m     test_data[col] \u001b[39m=\u001b[39m le\u001b[39m.\u001b[39mfit_transform(test_data[col])\n",
      "File \u001b[1;32mc:\\Users\\zuhai\\AppData\\Local\\Programs\\Python\\Python311\\Lib\\site-packages\\pandas\\core\\frame.py:3761\u001b[0m, in \u001b[0;36mDataFrame.__getitem__\u001b[1;34m(self, key)\u001b[0m\n\u001b[0;32m   3759\u001b[0m \u001b[39mif\u001b[39;00m \u001b[39mself\u001b[39m\u001b[39m.\u001b[39mcolumns\u001b[39m.\u001b[39mnlevels \u001b[39m>\u001b[39m \u001b[39m1\u001b[39m:\n\u001b[0;32m   3760\u001b[0m     \u001b[39mreturn\u001b[39;00m \u001b[39mself\u001b[39m\u001b[39m.\u001b[39m_getitem_multilevel(key)\n\u001b[1;32m-> 3761\u001b[0m indexer \u001b[39m=\u001b[39m \u001b[39mself\u001b[39;49m\u001b[39m.\u001b[39;49mcolumns\u001b[39m.\u001b[39;49mget_loc(key)\n\u001b[0;32m   3762\u001b[0m \u001b[39mif\u001b[39;00m is_integer(indexer):\n\u001b[0;32m   3763\u001b[0m     indexer \u001b[39m=\u001b[39m [indexer]\n",
      "File \u001b[1;32mc:\\Users\\zuhai\\AppData\\Local\\Programs\\Python\\Python311\\Lib\\site-packages\\pandas\\core\\indexes\\base.py:3654\u001b[0m, in \u001b[0;36mIndex.get_loc\u001b[1;34m(self, key)\u001b[0m\n\u001b[0;32m   3652\u001b[0m     \u001b[39mreturn\u001b[39;00m \u001b[39mself\u001b[39m\u001b[39m.\u001b[39m_engine\u001b[39m.\u001b[39mget_loc(casted_key)\n\u001b[0;32m   3653\u001b[0m \u001b[39mexcept\u001b[39;00m \u001b[39mKeyError\u001b[39;00m \u001b[39mas\u001b[39;00m err:\n\u001b[1;32m-> 3654\u001b[0m     \u001b[39mraise\u001b[39;00m \u001b[39mKeyError\u001b[39;00m(key) \u001b[39mfrom\u001b[39;00m \u001b[39merr\u001b[39;00m\n\u001b[0;32m   3655\u001b[0m \u001b[39mexcept\u001b[39;00m \u001b[39mTypeError\u001b[39;00m:\n\u001b[0;32m   3656\u001b[0m     \u001b[39m# If we have a listlike key, _check_indexing_error will raise\u001b[39;00m\n\u001b[0;32m   3657\u001b[0m     \u001b[39m#  InvalidIndexError. Otherwise we fall through and re-raise\u001b[39;00m\n\u001b[0;32m   3658\u001b[0m     \u001b[39m#  the TypeError.\u001b[39;00m\n\u001b[0;32m   3659\u001b[0m     \u001b[39mself\u001b[39m\u001b[39m.\u001b[39m_check_indexing_error(key)\n",
      "\u001b[1;31mKeyError\u001b[0m: 'product_type'"
     ]
    }
   ],
   "source": [
    "for col in categorical_cols:\n",
    "    le = LabelEncoder()\n",
    "    test_data[col] = le.fit_transform(test_data[col])"
   ]
  },
  {
   "cell_type": "code",
   "execution_count": null,
   "metadata": {},
   "outputs": [],
   "source": [
    "test_data_scaled = scaler.transform(test_data)"
   ]
  },
  {
   "cell_type": "code",
   "execution_count": null,
   "metadata": {},
   "outputs": [],
   "source": [
    "test_predictions = model.predict(test_data_scaled)\n",
    "print(test_predictions.size)"
   ]
  },
  {
   "cell_type": "code",
   "execution_count": null,
   "metadata": {},
   "outputs": [],
   "source": [
    "test_predictions.shape"
   ]
  },
  {
   "cell_type": "code",
   "execution_count": null,
   "metadata": {},
   "outputs": [],
   "source": [
    "submission = pd.DataFrame({\n",
    "    'row ID': range(1, 77790),\n",
    "    'price_doc': test_predictions.flatten()\n",
    "})\n",
    "\n",
    "submission.to_csv('submission.csv', index=False)"
   ]
  }
 ],
 "metadata": {
  "kernelspec": {
   "display_name": "Python 3",
   "language": "python",
   "name": "python3"
  },
  "language_info": {
   "codemirror_mode": {
    "name": "ipython",
    "version": 3
   },
   "file_extension": ".py",
   "mimetype": "text/x-python",
   "name": "python",
   "nbconvert_exporter": "python",
   "pygments_lexer": "ipython3",
   "version": "3.11.3"
  }
 },
 "nbformat": 4,
 "nbformat_minor": 2
}
