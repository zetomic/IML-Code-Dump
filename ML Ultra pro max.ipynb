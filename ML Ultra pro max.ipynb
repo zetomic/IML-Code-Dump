{
 "cells": [
  {
   "cell_type": "code",
   "execution_count": 16,
   "metadata": {},
   "outputs": [],
   "source": [
    "import pandas as pd\n",
    "import numpy as np\n",
    "from sklearn.model_selection import train_test_split\n",
    "from sklearn.preprocessing import MinMaxScaler, RobustScaler\n",
    "import tensorflow as tf\n",
    "from tensorflow.keras.models import Sequential\n",
    "from tensorflow.keras.layers import Dense, Dropout, BatchNormalization, LeakyReLU, PReLU, ReLU\n",
    "from tensorflow.keras.regularizers import l2, l1_l2\n",
    "from tensorflow.keras.metrics import RootMeanSquaredError\n",
    "from tensorflow.keras.optimizers import Adam\n",
    "from tensorflow.keras.callbacks import EarlyStopping\n",
    "from tensorflow.keras.initializers import he_normal\n",
    "from tensorflow.keras.optimizers.schedules import ExponentialDecay"
   ]
  },
  {
   "cell_type": "code",
   "execution_count": 17,
   "metadata": {},
   "outputs": [
    {
     "name": "stdout",
     "output_type": "stream",
     "text": [
      "TensorFlow version: 2.14.0\n",
      "TensorFlow was not built with CUDA\n"
     ]
    }
   ],
   "source": [
    "import tensorflow as tf\n",
    "\n",
    "# Check TensorFlow version (should be a version that supports GPU)\n",
    "print(\"TensorFlow version:\", tf.__version__)\n",
    "\n",
    "# Check if GPU is available\n",
    "if tf.test.is_built_with_cuda():\n",
    "    print(\"TensorFlow was built with CUDA\")\n",
    "    gpus = tf.config.list_physical_devices('GPU')\n",
    "    if gpus:\n",
    "        try:\n",
    "            # Currently, memory growth needs to be the same across GPUs\n",
    "            for gpu in gpus:\n",
    "                tf.config.experimental.set_memory_growth(gpu, True)\n",
    "            logical_gpus = tf.config.experimental.list_logical_devices('GPU')\n",
    "            print(len(gpus), \"Physical GPUs,\", len(logical_gpus), \"Logical GPUs\")\n",
    "        except RuntimeError as e:\n",
    "            # Memory growth must be set before GPUs have been initialized\n",
    "            print(e)\n",
    "    else:\n",
    "        print(\"No GPU devices available.\")\n",
    "else:\n",
    "    print(\"TensorFlow was not built with CUDA\")"
   ]
  },
  {
   "cell_type": "code",
   "execution_count": 18,
   "metadata": {},
   "outputs": [],
   "source": [
    "# Load the dataset\n",
    "file_path = 'train.csv'  # Replace with your CSV file path\n",
    "data = pd.read_csv(file_path)"
   ]
  },
  {
   "cell_type": "code",
   "execution_count": 19,
   "metadata": {},
   "outputs": [],
   "source": [
    "# Applying logarithmic transformations\n",
    "data['full_sq_log'] = np.log1p(data['full_sq'])\n",
    "data['leisure_count_500_log'] = np.log1p(data['leisure_count_500'])\n",
    "data['life_sq_log'] = np.log1p(data['life_sq'])\n",
    "data['cafe_count_500_price_high_log'] = np.log1p(data['cafe_count_500_price_high'])"
   ]
  },
  {
   "cell_type": "code",
   "execution_count": 20,
   "metadata": {},
   "outputs": [],
   "source": [
    "# Add log-transformed features to the list of key features\n",
    "key_features = ['full_sq', 'life_sq', 'floor', 'leisure_count_500', 'cafe_count_1000_price_high',\n",
    "                'mosque_count_500', 'mosque_count_1000', 'cafe_count_500_price_high',\n",
    "                'cafe_count_1000_price_high', 'cafe_count_500_price_4000', 'culture_objects_top_25_raion', \n",
    "                'leisure_count_1000', 'trc_sqm_500', 'church_count_500', 'cafe_count_1000_price_1500', \n",
    "                'mosque_count_1500', 'cafe_count_500', 'big_church_count_500',\n",
    "                'public_transport_station_min_walk', 'metro_min_walk', 'kindergarten_km', 'preschool_km',\n",
    "                'full_sq_log', 'life_sq_log', 'leisure_count_500_log', 'cafe_count_500_price_high_log']  # Add log-transformed features\n",
    "data = data[key_features + ['price_doc']]"
   ]
  },
  {
   "cell_type": "code",
   "execution_count": 21,
   "metadata": {},
   "outputs": [],
   "source": [
    "# Handling any potential infinities or NaNs\n",
    "data.replace([np.inf, -np.inf], np.nan, inplace=True)\n",
    "data.fillna(0, inplace=True)\n",
    "\n",
    "# Splitting the data into features (X) and target variable (y)\n",
    "X = data.drop('price_doc', axis=1)\n",
    "y = data['price_doc']\n",
    "\n",
    "# Splitting the dataset into training and validation sets\n",
    "X_train, X_val, y_train, y_val = train_test_split(X, y, test_size=0.2, random_state=42)\n",
    "\n",
    "# Feature Scaling using Robust Scaling\n",
    "scaler = RobustScaler()\n",
    "X_train_scaled = scaler.fit_transform(X_train)\n",
    "X_val_scaled = scaler.transform(X_val)"
   ]
  },
  {
   "cell_type": "code",
   "execution_count": 22,
   "metadata": {},
   "outputs": [],
   "source": [
    "\n",
    "batch_size = 64 # Adjust the batch size\n",
    "l2_reg = 0.01"
   ]
  },
  {
   "cell_type": "code",
   "execution_count": 23,
   "metadata": {},
   "outputs": [],
   "source": [
    "\n",
    "# Configuration\n",
    "initial_learning_rate = 0.001  # Initial learning rate\n",
    "epochs_to_decay = 5            # Decay every 3 epochs\n",
    "decay_rate = 0.9               # Reduce to 90% of the previous rate\n",
    "decay_steps = 2269 * 5  # Steps after which to apply decay\n",
    "\n",
    "# Set up the learning rate schedule\n",
    "lr_schedule = ExponentialDecay(initial_learning_rate, decay_steps=decay_steps, decay_rate=decay_rate, staircase=True)\n",
    "\n"
   ]
  },
  {
   "cell_type": "code",
   "execution_count": 24,
   "metadata": {},
   "outputs": [],
   "source": [
    "model = Sequential([\n",
    "    Dense(4112, kernel_initializer='he_normal', input_shape=(X_train_scaled.shape[1],)),\n",
    "    PReLU(),\n",
    "    BatchNormalization(),\n",
    "    Dense(2056),\n",
    "    PReLU(),\n",
    "    BatchNormalization(),\n",
    "    Dense(1028),\n",
    "    PReLU(),\n",
    "    BatchNormalization(),\n",
    "    Dense(512, kernel_initializer='he_normal'),\n",
    "    PReLU(),\n",
    "    BatchNormalization(),\n",
    "    Dense(256),\n",
    "    PReLU(),\n",
    "    BatchNormalization(),\n",
    "    Dense(128, kernel_initializer='he_normal'),\n",
    "    PReLU(),\n",
    "    BatchNormalization(),\n",
    "    Dense(64),\n",
    "    PReLU(),\n",
    "    Dense(32, kernel_regularizer=l1_l2(l1=1e-5, l2=1e-4), kernel_initializer='he_normal'),\n",
    "    PReLU(),\n",
    "    Dense(1, activation='linear', kernel_initializer='he_normal')\n",
    "])\n"
   ]
  },
  {
   "cell_type": "code",
   "execution_count": 25,
   "metadata": {},
   "outputs": [],
   "source": [
    "model.compile(optimizer=Adam(learning_rate=lr_schedule), loss='mean_squared_error', metrics=[RootMeanSquaredError(name='rmse')])\n",
    "\n"
   ]
  },
  {
   "cell_type": "code",
   "execution_count": 26,
   "metadata": {},
   "outputs": [],
   "source": [
    "# Implementing Early Stopping\n",
    "early_stopping = EarlyStopping(monitor='val_loss', patience=20, restore_best_weights=True)"
   ]
  },
  {
   "cell_type": "code",
   "execution_count": 27,
   "metadata": {},
   "outputs": [
    {
     "name": "stdout",
     "output_type": "stream",
     "text": [
      "Epoch 1/120\n",
      "1135/1135 [==============================] - 356s 279ms/step - loss: 295187263782912.0000 - rmse: 17181014.0000 - val_loss: 168303477653504.0000 - val_rmse: 12973183.0000\n",
      "Epoch 2/120\n",
      "1135/1135 [==============================] - 308s 272ms/step - loss: 168779027841024.0000 - rmse: 12991498.0000 - val_loss: 165599393087488.0000 - val_rmse: 12868543.0000\n",
      "Epoch 3/120\n",
      "1135/1135 [==============================] - 314s 277ms/step - loss: 167975818625024.0000 - rmse: 12960549.0000 - val_loss: 165498696237056.0000 - val_rmse: 12864630.0000\n",
      "Epoch 4/120\n",
      "1135/1135 [==============================] - 311s 274ms/step - loss: 166319706079232.0000 - rmse: 12896500.0000 - val_loss: 163205838012416.0000 - val_rmse: 12775204.0000\n",
      "Epoch 5/120\n",
      "1135/1135 [==============================] - 297s 262ms/step - loss: 166304740802560.0000 - rmse: 12895920.0000 - val_loss: 163398104907776.0000 - val_rmse: 12782727.0000\n",
      "Epoch 6/120\n",
      "1135/1135 [==============================] - 292s 257ms/step - loss: 165284367302656.0000 - rmse: 12856297.0000 - val_loss: 167256042504192.0000 - val_rmse: 12932751.0000\n",
      "Epoch 7/120\n",
      "1135/1135 [==============================] - 298s 262ms/step - loss: 164695503798272.0000 - rmse: 12833375.0000 - val_loss: 162207207784448.0000 - val_rmse: 12736059.0000\n",
      "Epoch 8/120\n",
      "1135/1135 [==============================] - 295s 260ms/step - loss: 164517212323840.0000 - rmse: 12826426.0000 - val_loss: 164951608000512.0000 - val_rmse: 12843349.0000\n",
      "Epoch 9/120\n",
      "1135/1135 [==============================] - 285s 251ms/step - loss: 163930831847424.0000 - rmse: 12803548.0000 - val_loss: 161369437503488.0000 - val_rmse: 12703127.0000\n",
      "Epoch 10/120\n",
      "1135/1135 [==============================] - 300s 264ms/step - loss: 163340374507520.0000 - rmse: 12780468.0000 - val_loss: 161804168724480.0000 - val_rmse: 12720227.0000\n",
      "Epoch 11/120\n",
      "1135/1135 [==============================] - 285s 251ms/step - loss: 162949129830400.0000 - rmse: 12765153.0000 - val_loss: 161644231524352.0000 - val_rmse: 12713938.0000\n",
      "Epoch 12/120\n",
      "1135/1135 [==============================] - 284s 251ms/step - loss: 163172065476608.0000 - rmse: 12773882.0000 - val_loss: 162620984262656.0000 - val_rmse: 12752293.0000\n",
      "Epoch 13/120\n",
      "1135/1135 [==============================] - 335s 296ms/step - loss: 163678536073216.0000 - rmse: 12793691.0000 - val_loss: 163582939496448.0000 - val_rmse: 12789955.0000\n",
      "Epoch 14/120\n",
      "1135/1135 [==============================] - 382s 337ms/step - loss: 162877642113024.0000 - rmse: 12762353.0000 - val_loss: 161047835049984.0000 - val_rmse: 12690462.0000\n",
      "Epoch 15/120\n",
      "1135/1135 [==============================] - 365s 322ms/step - loss: 162260274118656.0000 - rmse: 12738142.0000 - val_loss: 161028977459200.0000 - val_rmse: 12689719.0000\n",
      "Epoch 16/120\n",
      "1135/1135 [==============================] - 355s 313ms/step - loss: 161718286155776.0000 - rmse: 12716850.0000 - val_loss: 162130686902272.0000 - val_rmse: 12733055.0000\n",
      "Epoch 17/120\n",
      "1135/1135 [==============================] - 364s 321ms/step - loss: 161598295506944.0000 - rmse: 12712132.0000 - val_loss: 163055094726656.0000 - val_rmse: 12769303.0000\n",
      "Epoch 18/120\n",
      "1135/1135 [==============================] - 344s 303ms/step - loss: 161248607993856.0000 - rmse: 12698370.0000 - val_loss: 160300342968320.0000 - val_rmse: 12660977.0000\n",
      "Epoch 19/120\n",
      "1135/1135 [==============================] - 338s 298ms/step - loss: 161126721519616.0000 - rmse: 12693570.0000 - val_loss: 164262634848256.0000 - val_rmse: 12816499.0000\n",
      "Epoch 20/120\n",
      "1135/1135 [==============================] - 335s 295ms/step - loss: 160819245481984.0000 - rmse: 12681453.0000 - val_loss: 162759614398464.0000 - val_rmse: 12757728.0000\n",
      "Epoch 21/120\n",
      "1135/1135 [==============================] - 340s 300ms/step - loss: 160134181421056.0000 - rmse: 12654414.0000 - val_loss: 162105604964352.0000 - val_rmse: 12732070.0000\n",
      "Epoch 22/120\n",
      "1135/1135 [==============================] - 336s 296ms/step - loss: 159838231330816.0000 - rmse: 12642715.0000 - val_loss: 161409451163648.0000 - val_rmse: 12704702.0000\n",
      "Epoch 23/120\n",
      "1135/1135 [==============================] - 332s 292ms/step - loss: 159527198523392.0000 - rmse: 12630408.0000 - val_loss: 163339250434048.0000 - val_rmse: 12780425.0000\n",
      "Epoch 24/120\n",
      "1135/1135 [==============================] - 335s 295ms/step - loss: 159028311228416.0000 - rmse: 12610643.0000 - val_loss: 165414659162112.0000 - val_rmse: 12861363.0000\n",
      "Epoch 25/120\n",
      "1135/1135 [==============================] - 340s 299ms/step - loss: 158564454760448.0000 - rmse: 12592238.0000 - val_loss: 165507806265344.0000 - val_rmse: 12864984.0000\n",
      "Epoch 26/120\n",
      "1135/1135 [==============================] - 309s 272ms/step - loss: 158074039959552.0000 - rmse: 12572750.0000 - val_loss: 167406534131712.0000 - val_rmse: 12938568.0000\n",
      "Epoch 27/120\n",
      "1135/1135 [==============================] - 303s 267ms/step - loss: 157782821044224.0000 - rmse: 12561163.0000 - val_loss: 163645250076672.0000 - val_rmse: 12792390.0000\n",
      "Epoch 28/120\n",
      "1135/1135 [==============================] - 304s 268ms/step - loss: 157250110881792.0000 - rmse: 12539941.0000 - val_loss: 169374182801408.0000 - val_rmse: 13014384.0000\n",
      "Epoch 29/120\n",
      "1135/1135 [==============================] - 266s 234ms/step - loss: 156392291827712.0000 - rmse: 12505690.0000 - val_loss: 167946408165376.0000 - val_rmse: 12959414.0000\n",
      "Epoch 30/120\n",
      "1135/1135 [==============================] - 216s 190ms/step - loss: 156049180983296.0000 - rmse: 12491965.0000 - val_loss: 163453654269952.0000 - val_rmse: 12784899.0000\n",
      "Epoch 31/120\n",
      "1135/1135 [==============================] - 217s 192ms/step - loss: 154435766452224.0000 - rmse: 12427219.0000 - val_loss: 167311524757504.0000 - val_rmse: 12934896.0000\n",
      "Epoch 32/120\n",
      "1135/1135 [==============================] - 216s 190ms/step - loss: 153851265024000.0000 - rmse: 12403679.0000 - val_loss: 167128334336000.0000 - val_rmse: 12927812.0000\n",
      "Epoch 33/120\n",
      "1135/1135 [==============================] - 211s 186ms/step - loss: 152838206390272.0000 - rmse: 12362775.0000 - val_loss: 173619925745664.0000 - val_rmse: 13176491.0000\n",
      "Epoch 34/120\n",
      "1135/1135 [==============================] - 216s 190ms/step - loss: 151896249597952.0000 - rmse: 12324620.0000 - val_loss: 165233985323008.0000 - val_rmse: 12854337.0000\n",
      "Epoch 35/120\n",
      "1135/1135 [==============================] - 213s 188ms/step - loss: 151135369297920.0000 - rmse: 12293713.0000 - val_loss: 168714586554368.0000 - val_rmse: 12989018.0000\n",
      "Epoch 36/120\n",
      "1135/1135 [==============================] - 211s 186ms/step - loss: 149939086688256.0000 - rmse: 12244962.0000 - val_loss: 170615394795520.0000 - val_rmse: 13061983.0000\n",
      "Epoch 37/120\n",
      "1135/1135 [==============================] - 217s 192ms/step - loss: 149542322307072.0000 - rmse: 12228750.0000 - val_loss: 173157612781568.0000 - val_rmse: 13158937.0000\n",
      "Epoch 38/120\n",
      "1135/1135 [==============================] - 211s 186ms/step - loss: 148328910159872.0000 - rmse: 12179036.0000 - val_loss: 169100126978048.0000 - val_rmse: 13003850.0000\n"
     ]
    }
   ],
   "source": [
    "# Training the Model with the specified batch size\n",
    "history = model.fit(X_train_scaled, y_train, batch_size=128, epochs=120, validation_data=(X_val_scaled, y_val), callbacks=[early_stopping])"
   ]
  },
  {
   "cell_type": "code",
   "execution_count": 28,
   "metadata": {},
   "outputs": [
    {
     "name": "stdout",
     "output_type": "stream",
     "text": [
      "Model: \"sequential_1\"\n",
      "_________________________________________________________________\n",
      " Layer (type)                Output Shape              Param #   \n",
      "=================================================================\n",
      " dense_9 (Dense)             (None, 4112)              111024    \n",
      "                                                                 \n",
      " p_re_lu (PReLU)             (None, 4112)              4112      \n",
      "                                                                 \n",
      " batch_normalization_5 (Bat  (None, 4112)              16448     \n",
      " chNormalization)                                                \n",
      "                                                                 \n",
      " dense_10 (Dense)            (None, 2056)              8456328   \n",
      "                                                                 \n",
      " p_re_lu_1 (PReLU)           (None, 2056)              2056      \n",
      "                                                                 \n",
      " batch_normalization_6 (Bat  (None, 2056)              8224      \n",
      " chNormalization)                                                \n",
      "                                                                 \n",
      " dense_11 (Dense)            (None, 1028)              2114596   \n",
      "                                                                 \n",
      " p_re_lu_2 (PReLU)           (None, 1028)              1028      \n",
      "                                                                 \n",
      " batch_normalization_7 (Bat  (None, 1028)              4112      \n",
      " chNormalization)                                                \n",
      "                                                                 \n",
      " dense_12 (Dense)            (None, 512)               526848    \n",
      "                                                                 \n",
      " p_re_lu_3 (PReLU)           (None, 512)               512       \n",
      "                                                                 \n",
      " batch_normalization_8 (Bat  (None, 512)               2048      \n",
      " chNormalization)                                                \n",
      "                                                                 \n",
      " dense_13 (Dense)            (None, 256)               131328    \n",
      "                                                                 \n",
      " p_re_lu_4 (PReLU)           (None, 256)               256       \n",
      "                                                                 \n",
      " batch_normalization_9 (Bat  (None, 256)               1024      \n",
      " chNormalization)                                                \n",
      "                                                                 \n",
      " dense_14 (Dense)            (None, 128)               32896     \n",
      "                                                                 \n",
      " p_re_lu_5 (PReLU)           (None, 128)               128       \n",
      "                                                                 \n",
      " dense_15 (Dense)            (None, 64)                8256      \n",
      "                                                                 \n",
      " p_re_lu_6 (PReLU)           (None, 64)                64        \n",
      "                                                                 \n",
      " dense_16 (Dense)            (None, 32)                2080      \n",
      "                                                                 \n",
      " p_re_lu_7 (PReLU)           (None, 32)                32        \n",
      "                                                                 \n",
      " dense_17 (Dense)            (None, 1)                 33        \n",
      "                                                                 \n",
      "=================================================================\n",
      "Total params: 11423433 (43.58 MB)\n",
      "Trainable params: 11407505 (43.52 MB)\n",
      "Non-trainable params: 15928 (62.22 KB)\n",
      "_________________________________________________________________\n"
     ]
    }
   ],
   "source": [
    "# Model Summary\n",
    "model.summary()"
   ]
  },
  {
   "cell_type": "code",
   "execution_count": 29,
   "metadata": {},
   "outputs": [
    {
     "name": "stdout",
     "output_type": "stream",
     "text": [
      "1135/1135 [==============================] - 25s 22ms/step - loss: 160300342968320.0000 - rmse: 12660977.0000\n",
      "Validation RMSE: 12660977.0\n"
     ]
    }
   ],
   "source": [
    "# Evaluating the model\n",
    "results = model.evaluate(X_val_scaled, y_val)\n",
    "print(f\"Validation RMSE: {results[1]}\")"
   ]
  },
  {
   "cell_type": "code",
   "execution_count": 30,
   "metadata": {},
   "outputs": [
    {
     "name": "stdout",
     "output_type": "stream",
     "text": [
      "2431/2431 [==============================] - 45s 18ms/step\n"
     ]
    }
   ],
   "source": [
    "# Load the test dataset\n",
    "test_file_path = 'test.csv'  # Replace with your test CSV file path\n",
    "test_data = pd.read_csv(test_file_path)\n",
    "\n",
    "# Applying the same logarithmic transformations as in the training data\n",
    "test_data['full_sq_log'] = np.log1p(test_data['full_sq'])\n",
    "test_data['leisure_count_500_log'] = np.log1p(test_data['leisure_count_500'])\n",
    "test_data['life_sq_log'] = np.log1p(test_data['life_sq'])\n",
    "test_data['cafe_count_500_price_high_log'] = np.log1p(test_data['cafe_count_500_price_high'])\n",
    "\n",
    "# Handling any potential infinities or NaNs\n",
    "test_data.replace([np.inf, -np.inf], np.nan, inplace=True)\n",
    "test_data.fillna(0, inplace=True)\n",
    "\n",
    "# Selecting the same features as used in the training data\n",
    "X_test = test_data[['full_sq', 'life_sq', 'floor', 'leisure_count_500', 'cafe_count_1000_price_high',\n",
    "                    'mosque_count_500', 'mosque_count_1000', 'cafe_count_500_price_high',\n",
    "                    'cafe_count_1000_price_high', 'cafe_count_500_price_4000', 'culture_objects_top_25_raion', \n",
    "                    'leisure_count_1000', 'trc_sqm_500', 'church_count_500', 'cafe_count_1000_price_1500', \n",
    "                    'mosque_count_1500', 'cafe_count_500', 'big_church_count_500',\n",
    "                    'public_transport_station_min_walk', 'metro_min_walk', 'kindergarten_km', 'preschool_km',\n",
    "                    'full_sq_log', 'life_sq_log', 'leisure_count_500_log', 'cafe_count_500_price_high_log']]\n",
    "\n",
    "\n",
    "# Scale the test data using the same scaler as the training data\n",
    "# Assuming the scaler is already fitted on the training data\n",
    "X_test_scaled = scaler.transform(X_test)\n",
    "\n",
    "# Make predictions using the trained model\n",
    "# Assuming 'model' is your trained model instance from the same notebook session\n",
    "predictions = model.predict(X_test_scaled)\n",
    "\n",
    "# Prepare submission\n",
    "submission = pd.DataFrame({\n",
    "    'row ID': test_data['row ID'],  # Replace 'ID' with the identifier column of your test dataset\n",
    "    'price_doc': predictions.flatten()\n",
    "})\n",
    "submission.to_csv('predictions-3.csv', index=False)\n"
   ]
  }
 ],
 "metadata": {
  "kernelspec": {
   "display_name": "Python 3",
   "language": "python",
   "name": "python3"
  },
  "language_info": {
   "codemirror_mode": {
    "name": "ipython",
    "version": 3
   },
   "file_extension": ".py",
   "mimetype": "text/x-python",
   "name": "python",
   "nbconvert_exporter": "python",
   "pygments_lexer": "ipython3",
   "version": "3.11.3"
  }
 },
 "nbformat": 4,
 "nbformat_minor": 2
}
